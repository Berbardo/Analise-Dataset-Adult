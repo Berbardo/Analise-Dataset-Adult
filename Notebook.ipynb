
{
 "cells": [
  {
   "cell_type": "markdown",
   "execution_count": null,
   "metadata": {
    "papermill": {
     "duration": 0.030904,
     "end_time": "2020-09-07T02:30:22.216915",
     "exception": false,
     "start_time": "2020-09-07T02:30:22.186011",
     "status": "completed"
    },
    "tags": []
   },
   "source": [
    "# 📈 Análise e Predição - Dataset Adult\n",
    "\n",
    "### Bernardo Rocha Coutinho - 11288235 - PMR3508-2020-151\n",
    "\n",
    "Bem vindo a este notebook de análise de dados e predição do dataset **Adult**! \n",
    "\n",
    "Aqui, vou tentar explicar as partes do trabalho que fiz com o dataset, além de expor algumas técnicas de Ciência de Dados e Aprendizado de Máquina no caminho."
   ]
  },
  {
   "cell_type": "markdown",
   "execution_count": null,
   "metadata": {
    "papermill": {
     "duration": 0.030675,
     "end_time": "2020-09-07T02:30:22.276120",
     "exception": false,
     "start_time": "2020-09-07T02:30:22.245445",
     "status": "completed"
    },
    "tags": []
   },
   "source": [
    "### Índice\n",
    "- [🎲 Importando os Dados](#section-one)\n",
    "- [📈 Visualização de Dados](#section-two)\n",
    "  - [🔢 Visualizando Variáveis Numéricas](#subsection-two-one)\n",
    "  - [📊 Visualizando Variáveis Categóricas](#subsection-two-two)\n",
    "- [🧹 Limpeza de Dados](#section-three)\n",
    "  - [⚗️ Pré-Processamento](#subsection-three-one)\n",
    "- [🔮 Predição](#section-four)"
   ]
  },
  {
   "cell_type": "markdown",
   "execution_count": null,
   "metadata": {
    "papermill": {
     "duration": 0.027465,
     "end_time": "2020-09-07T02:30:22.333851",
     "exception": false,
     "start_time": "2020-09-07T02:30:22.306386",
     "status": "completed"
    },
    "tags": []
   },
   "source": [
    "Antes de qualquer coisa, vamos importar duas bibliotecas bem importantes para trabalhar com os nossos dados: *numpy* e *pandas*. Caso você não esteja muito familiarizado com essas bibliotecas, recomendo a leitura do seguinte texto:\n",
    "\n",
    "[Leitura Recomendada - Bibliotecas de Data Science](https://medium.com/turing-talks/turing-talks-6-data-science-libraries-6c2599838b3e)"
   ]
  },
  {
   "cell_type": "code",
   "execution_count": 1,
   "metadata": {
    "_cell_guid": "b1076dfc-b9ad-4769-8c92-a6c4dae69d19",
    "_uuid": "8f2839f25d086af736a60e9eeb907d3b93b6e0e5",
    "execution": {
     "iopub.execute_input": "2020-09-07T02:30:22.394392Z",
     "iopub.status.busy": "2020-09-07T02:30:22.393430Z",
     "iopub.status.idle": "2020-09-07T02:30:22.397645Z",
     "shell.execute_reply": "2020-09-07T02:30:22.396907Z"
    },
    "papermill": {
     "duration": 0.037215,
     "end_time": "2020-09-07T02:30:22.397793",
     "exception": false,
     "start_time": "2020-09-07T02:30:22.360578",
     "status": "completed"
    },
    "tags": []
   },
   "outputs": [],
   "source": [
    "import numpy as np\n",
    "import pandas as pd"
   ]
  },
  {
   "cell_type": "markdown",
   "execution_count": null,
   "metadata": {
    "papermill": {
     "duration": 0.027287,
     "end_time": "2020-09-07T02:30:22.452403",
     "exception": false,
     "start_time": "2020-09-07T02:30:22.425116",
     "status": "completed"
    },
    "tags": []
   },
   "source": [
    "Em seguida, vamos reverter nosso **scikit-learn** para a versão 0.23.0 e realizar um pequeno bugfix. Esse passo só é necessário porque a versão atual do sklearn conflita com uma biblioteca que utilizaremos durante a predição, a **scikit-optimize**."
   ]
  },
  {
   "cell_type": "code",
   "execution_count": 2,
   "metadata": {
    "execution": {
     "iopub.execute_input": "2020-09-07T02:30:22.516496Z",
     "iopub.status.busy": "2020-09-07T02:30:22.515499Z",
     "iopub.status.idle": "2020-09-07T02:30:42.532044Z",
     "shell.execute_reply": "2020-09-07T02:30:42.531107Z"
    },
    "papermill": {
     "duration": 20.05184,
     "end_time": "2020-09-07T02:30:42.532204",
     "exception": false,
     "start_time": "2020-09-07T02:30:22.480364",
     "status": "completed"
    },
    "tags": []
   },
   "outputs": [
    {
     "name": "stdout",
     "output_type": "stream",
     "text": [
      "Collecting scikit-learn==0.23.0\r\n",
      "  Downloading scikit_learn-0.23.0-cp37-cp37m-manylinux1_x86_64.whl (7.3 MB)\r\n",
      "\u001b[K     |████████████████████████████████| 7.3 MB 9.3 MB/s \r\n",
      "\u001b[?25hRequirement already satisfied: threadpoolctl>=2.0.0 in /opt/conda/lib/python3.7/site-packages (from scikit-learn==0.23.0) (2.1.0)\r\n",
      "Requirement already satisfied: joblib>=0.11 in /opt/conda/lib/python3.7/site-packages (from scikit-learn==0.23.0) (0.14.1)\r\n",
      "Requirement already satisfied: scipy>=0.19.1 in /opt/conda/lib/python3.7/site-packages (from scikit-learn==0.23.0) (1.4.1)\r\n",
      "Requirement already satisfied: numpy>=1.13.3 in /opt/conda/lib/python3.7/site-packages (from scikit-learn==0.23.0) (1.18.5)\r\n",
      "Installing collected packages: scikit-learn\r\n",
      "  Attempting uninstall: scikit-learn\r\n",
      "    Found existing installation: scikit-learn 0.23.2\r\n",
      "    Uninstalling scikit-learn-0.23.2:\r\n",
      "      Successfully uninstalled scikit-learn-0.23.2\r\n",
      "\u001b[31mERROR: After October 2020 you may experience errors when installing or updating packages. This is because pip will change the way that it resolves dependency conflicts.\r\n",
      "\r\n",
      "We recommend you use --use-feature=2020-resolver to test your packages with the new resolver before it becomes the default.\r\n",
      "\r\n",
      "kmeans-smote 0.1.2 requires imbalanced-learn<0.5,>=0.4.0, but you'll have imbalanced-learn 0.7.0 which is incompatible.\r\n",
      "kmeans-smote 0.1.2 requires numpy<1.16,>=1.13, but you'll have numpy 1.18.5 which is incompatible.\r\n",
      "kmeans-smote 0.1.2 requires scikit-learn<0.21,>=0.19.0, but you'll have scikit-learn 0.23.0 which is incompatible.\r\n",
      "hypertools 0.6.2 requires scikit-learn<0.22,>=0.19.1, but you'll have scikit-learn 0.23.0 which is incompatible.\u001b[0m\r\n",
      "Successfully installed scikit-learn-0.23.0\r\n"
     ]
    }
   ],
   "source": [
    "!pip install scikit-learn==0.23.0\n",
    "\n",
    "from numpy.ma import MaskedArray\n",
    "import sklearn.utils.fixes\n",
    "\n",
    "sklearn.utils.fixes.MaskedArray = MaskedArray"
   ]
  },
  {
   "cell_type": "markdown",
   "execution_count": null,
   "metadata": {
    "papermill": {
     "duration": 0.032025,
     "end_time": "2020-09-07T02:30:42.602397",
     "exception": false,
     "start_time": "2020-09-07T02:30:42.570372",
     "status": "completed"
    },
    "tags": []
   },
   "source": [
    "<a id=\"section-one\"></a>\n",
    "## 🎲 Importando os Dados\n",
    "\n",
    "Antes de começar a fazer qualquer análise, precisamos antes importar os nossos dados. Para isto, utilizamos o método `read_csv` da biblioteca **pandas** com o local do nosso arquivo. Também especificaremos que a coluna 'Id' são os índices da nossa tabela, e que os elementos com '?' serão considerados valores faltantes."
   ]
  },
  {
   "cell_type": "code",
   "execution_count": 3,
   "metadata": {
    "_cell_guid": "79c7e3d0-c299-4dcb-8224-4455121ee9b0",
    "_uuid": "d629ff2d2480ee46fbb7e2d37f6b5fab8052498a",
    "execution": {
     "iopub.execute_input": "2020-09-07T02:30:42.675720Z",
     "iopub.status.busy": "2020-09-07T02:30:42.674788Z",
     "iopub.status.idle": "2020-09-07T02:30:42.818926Z",
     "shell.execute_reply": "2020-09-07T02:30:42.817612Z"
    },
    "papermill": {
     "duration": 0.185028,
     "end_time": "2020-09-07T02:30:42.819121",
     "exception": false,
     "start_time": "2020-09-07T02:30:42.634093",
     "status": "completed"
    },
    "tags": []
   },
   "outputs": [],
   "source": [
    "df = pd.read_csv(\"../input/adult-pmr3508/train_data.csv\", index_col=['Id'], na_values=\"?\")"
   ]
  },
  {
   "cell_type": "markdown",
   "execution_count": null,
   "metadata": {
    "papermill": {
     "duration": 0.030835,
     "end_time": "2020-09-07T02:30:42.881905",
     "exception": false,
     "start_time": "2020-09-07T02:30:42.851070",
     "status": "completed"
    },
    "tags": []
   },
   "source": [
    "Em seguida, podemos dar uma primeira olhada nos nossos dados com o método `head` do nosso dataframe."
   ]
  },
  {
   "cell_type": "code",
   "execution_count": 4,
   "metadata": {
    "execution": {
     "iopub.execute_input": "2020-09-07T02:30:42.965692Z",
     "iopub.status.busy": "2020-09-07T02:30:42.964564Z",
     "iopub.status.idle": "2020-09-07T02:30:42.984303Z",
     "shell.execute_reply": "2020-09-07T02:30:42.983582Z"
    },
    "papermill": {
     "duration": 0.071304,
     "end_time": "2020-09-07T02:30:42.984450",
     "exception": false,
     "start_time": "2020-09-07T02:30:42.913146",
     "status": "completed"
    },
    "tags": []
   },
   "outputs": [
    {
     "data": {
      "text/html": [
       "<div>\n",
       "<style scoped>\n",
       "    .dataframe tbody tr th:only-of-type {\n",
       "        vertical-align: middle;\n",
       "    }\n",
       "\n",
       "    .dataframe tbody tr th {\n",
       "        vertical-align: top;\n",
       "    }\n",
       "\n",
       "    .dataframe thead th {\n",
       "        text-align: right;\n",
       "    }\n",
       "</style>\n",
       "<table border=\"1\" class=\"dataframe\">\n",
       "  <thead>\n",
       "    <tr style=\"text-align: right;\">\n",
       "      <th></th>\n",
       "      <th>age</th>\n",
       "      <th>workclass</th>\n",
       "      <th>fnlwgt</th>\n",
       "      <th>education</th>\n",
       "      <th>education.num</th>\n",
       "      <th>marital.status</th>\n",
       "      <th>occupation</th>\n",
       "      <th>relationship</th>\n",
       "      <th>race</th>\n",
       "      <th>sex</th>\n",
       "      <th>capital.gain</th>\n",
       "      <th>capital.loss</th>\n",
       "      <th>hours.per.week</th>\n",
       "      <th>native.country</th>\n",
       "      <th>income</th>\n",
       "    </tr>\n",
       "    <tr>\n",
       "      <th>Id</th>\n",
       "      <th></th>\n",
       "      <th></th>\n",
       "      <th></th>\n",
       "      <th></th>\n",
       "      <th></th>\n",
       "      <th></th>\n",
       "      <th></th>\n",
       "      <th></th>\n",
       "      <th></th>\n",
       "      <th></th>\n",
       "      <th></th>\n",
       "      <th></th>\n",
       "      <th></th>\n",
       "      <th></th>\n",
       "      <th></th>\n",
       "    </tr>\n",
       "  </thead>\n",
       "  <tbody>\n",
       "    <tr>\n",
       "      <th>16280</th>\n",
       "      <td>34</td>\n",
       "      <td>Private</td>\n",
       "      <td>204991</td>\n",
       "      <td>Some-college</td>\n",
       "      <td>10</td>\n",
       "      <td>Divorced</td>\n",
       "      <td>Exec-managerial</td>\n",
       "      <td>Own-child</td>\n",
       "      <td>White</td>\n",
       "      <td>Male</td>\n",
       "      <td>0</td>\n",
       "      <td>0</td>\n",
       "      <td>44</td>\n",
       "      <td>United-States</td>\n",
       "      <td>&lt;=50K</td>\n",
       "    </tr>\n",
       "    <tr>\n",
       "      <th>16281</th>\n",
       "      <td>58</td>\n",
       "      <td>Local-gov</td>\n",
       "      <td>310085</td>\n",
       "      <td>10th</td>\n",
       "      <td>6</td>\n",
       "      <td>Married-civ-spouse</td>\n",
       "      <td>Transport-moving</td>\n",
       "      <td>Husband</td>\n",
       "      <td>White</td>\n",
       "      <td>Male</td>\n",
       "      <td>0</td>\n",
       "      <td>0</td>\n",
       "      <td>40</td>\n",
       "      <td>United-States</td>\n",
       "      <td>&lt;=50K</td>\n",
       "    </tr>\n",
       "    <tr>\n",
       "      <th>16282</th>\n",
       "      <td>25</td>\n",
       "      <td>Private</td>\n",
       "      <td>146117</td>\n",
       "      <td>Some-college</td>\n",
       "      <td>10</td>\n",
       "      <td>Never-married</td>\n",
       "      <td>Machine-op-inspct</td>\n",
       "      <td>Not-in-family</td>\n",
       "      <td>White</td>\n",
       "      <td>Male</td>\n",
       "      <td>0</td>\n",
       "      <td>0</td>\n",
       "      <td>42</td>\n",
       "      <td>United-States</td>\n",
       "      <td>&lt;=50K</td>\n",
       "    </tr>\n",
       "    <tr>\n",
       "      <th>16283</th>\n",
       "      <td>24</td>\n",
       "      <td>Private</td>\n",
       "      <td>138938</td>\n",
       "      <td>Some-college</td>\n",
       "      <td>10</td>\n",
       "      <td>Divorced</td>\n",
       "      <td>Adm-clerical</td>\n",
       "      <td>Not-in-family</td>\n",
       "      <td>White</td>\n",
       "      <td>Female</td>\n",
       "      <td>0</td>\n",
       "      <td>0</td>\n",
       "      <td>40</td>\n",
       "      <td>United-States</td>\n",
       "      <td>&lt;=50K</td>\n",
       "    </tr>\n",
       "    <tr>\n",
       "      <th>16284</th>\n",
       "      <td>57</td>\n",
       "      <td>Self-emp-inc</td>\n",
       "      <td>258883</td>\n",
       "      <td>HS-grad</td>\n",
       "      <td>9</td>\n",
       "      <td>Married-civ-spouse</td>\n",
       "      <td>Transport-moving</td>\n",
       "      <td>Husband</td>\n",
       "      <td>White</td>\n",
       "      <td>Male</td>\n",
       "      <td>5178</td>\n",
       "      <td>0</td>\n",
       "      <td>60</td>\n",
       "      <td>Hungary</td>\n",
       "      <td>&gt;50K</td>\n",
       "    </tr>\n",
       "  </tbody>\n",
       "</table>\n",
       "</div>"
      ],
      "text/plain": [
       "       age     workclass  fnlwgt     education  education.num  \\\n",
       "Id                                                              \n",
       "16280   34       Private  204991  Some-college             10   \n",
       "16281   58     Local-gov  310085          10th              6   \n",
       "16282   25       Private  146117  Some-college             10   \n",
       "16283   24       Private  138938  Some-college             10   \n",
       "16284   57  Self-emp-inc  258883       HS-grad              9   \n",
       "\n",
       "           marital.status         occupation   relationship   race     sex  \\\n",
       "Id                                                                           \n",
       "16280            Divorced    Exec-managerial      Own-child  White    Male   \n",
       "16281  Married-civ-spouse   Transport-moving        Husband  White    Male   \n",
       "16282       Never-married  Machine-op-inspct  Not-in-family  White    Male   \n",
       "16283            Divorced       Adm-clerical  Not-in-family  White  Female   \n",
       "16284  Married-civ-spouse   Transport-moving        Husband  White    Male   \n",
       "\n",
       "       capital.gain  capital.loss  hours.per.week native.country income  \n",
       "Id                                                                       \n",
       "16280             0             0              44  United-States  <=50K  \n",
       "16281             0             0              40  United-States  <=50K  \n",
       "16282             0             0              42  United-States  <=50K  \n",
       "16283             0             0              40  United-States  <=50K  \n",
       "16284          5178             0              60        Hungary   >50K  "
      ]
     },
     "execution_count": 4,
     "metadata": {},
     "output_type": "execute_result"
    }
   ],
   "source": [
    "df.head()"
   ]
  },
  {
   "cell_type": "markdown",
   "execution_count": null,
   "metadata": {
    "papermill": {
     "duration": 0.033453,
     "end_time": "2020-09-07T02:30:43.050121",
     "exception": false,
     "start_time": "2020-09-07T02:30:43.016668",
     "status": "completed"
    },
    "tags": []
   },
   "source": [
    "Com o método `info`, podemos observar o tipo de cada variável da nossa tabela, bem como quantos valores não faltantes nós temos."
   ]
  },
  {
   "cell_type": "code",
   "execution_count": 5,
   "metadata": {
    "execution": {
     "iopub.execute_input": "2020-09-07T02:30:43.157226Z",
     "iopub.status.busy": "2020-09-07T02:30:43.155752Z",
     "iopub.status.idle": "2020-09-07T02:30:43.176131Z",
     "shell.execute_reply": "2020-09-07T02:30:43.175329Z"
    },
    "papermill": {
     "duration": 0.093924,
     "end_time": "2020-09-07T02:30:43.176277",
     "exception": false,
     "start_time": "2020-09-07T02:30:43.082353",
     "status": "completed"
    },
    "tags": []
   },
   "outputs": [
    {
     "name": "stdout",
     "output_type": "stream",
     "text": [
      "<class 'pandas.core.frame.DataFrame'>\n",
      "Int64Index: 32560 entries, 16280 to 48839\n",
      "Data columns (total 15 columns):\n",
      " #   Column          Non-Null Count  Dtype \n",
      "---  ------          --------------  ----- \n",
      " 0   age             32560 non-null  int64 \n",
      " 1   workclass       30724 non-null  object\n",
      " 2   fnlwgt          32560 non-null  int64 \n",
      " 3   education       32560 non-null  object\n",
      " 4   education.num   32560 non-null  int64 \n",
      " 5   marital.status  32560 non-null  object\n",
      " 6   occupation      30717 non-null  object\n",
      " 7   relationship    32560 non-null  object\n",
      " 8   race            32560 non-null  object\n",
      " 9   sex             32560 non-null  object\n",
      " 10  capital.gain    32560 non-null  int64 \n",
      " 11  capital.loss    32560 non-null  int64 \n",
      " 12  hours.per.week  32560 non-null  int64 \n",
      " 13  native.country  31977 non-null  object\n",
      " 14  income          32560 non-null  object\n",
      "dtypes: int64(6), object(9)\n",
      "memory usage: 4.0+ MB\n"
     ]
    }
   ],
   "source": [
    "df.info()"
   ]
  },
  {
   "cell_type": "markdown",
   "execution_count": null,
   "metadata": {
    "papermill": {
     "duration": 0.032452,
     "end_time": "2020-09-07T02:30:43.240609",
     "exception": false,
     "start_time": "2020-09-07T02:30:43.208157",
     "status": "completed"
    },
    "tags": []
   },
   "source": [
    "Como você consegue ver, temos **14** variáveis diferentes: treze independentes e uma de classe. Essa variável de classe é o que queremos prever, a renda anual de cada pessoa (ou 'income').\n",
    "\n",
    "Essas 14 variáveis estão divididas entre variáveis ***numéricas*** e variáveis ***categóricas***. As ***numéricas***, como a quantidade de horas trabalhadas por semana (ou 'hours.per.week'), são representadas por números, o que faz com que elas sejam facilmente compreendidas pelo nosso computador. Já as ***categóricas***, como o sexo de cada indivíduo (ou 'sex'), estão divididas em categorias ('Male' e 'Female') e portanto são um pouco mais complicadas de se trabalhar inicialmente. Na limpeza de dados, nós deveremos de alguma maneira transformar elas em números para que o nosso estimador consiga fazer cálculos."
   ]
  },
  {
   "cell_type": "markdown",
   "execution_count": null,
   "metadata": {
    "papermill": {
     "duration": 0.031618,
     "end_time": "2020-09-07T02:30:43.305312",
     "exception": false,
     "start_time": "2020-09-07T02:30:43.273694",
     "status": "completed"
    },
    "tags": []
   },
   "source": [
    "Por fim, podemos utilizar o método `describe` para obter algumas estatísticas mais simples sobre os nossos dados:"
   ]
  },
  {
   "cell_type": "code",
   "execution_count": 6,
   "metadata": {
    "execution": {
     "iopub.execute_input": "2020-09-07T02:30:43.384023Z",
     "iopub.status.busy": "2020-09-07T02:30:43.382960Z",
     "iopub.status.idle": "2020-09-07T02:30:43.423717Z",
     "shell.execute_reply": "2020-09-07T02:30:43.422867Z"
    },
    "papermill": {
     "duration": 0.085392,
     "end_time": "2020-09-07T02:30:43.423880",
     "exception": false,
     "start_time": "2020-09-07T02:30:43.338488",
     "status": "completed"
    },
    "tags": []
   },
   "outputs": [
    {
     "data": {
      "text/html": [
       "<div>\n",
       "<style scoped>\n",
       "    .dataframe tbody tr th:only-of-type {\n",
       "        vertical-align: middle;\n",
       "    }\n",
       "\n",
       "    .dataframe tbody tr th {\n",
       "        vertical-align: top;\n",
       "    }\n",
       "\n",
       "    .dataframe thead th {\n",
       "        text-align: right;\n",
       "    }\n",
       "</style>\n",
       "<table border=\"1\" class=\"dataframe\">\n",
       "  <thead>\n",
       "    <tr style=\"text-align: right;\">\n",
       "      <th></th>\n",
       "      <th>age</th>\n",
       "      <th>fnlwgt</th>\n",
       "      <th>education.num</th>\n",
       "      <th>capital.gain</th>\n",
       "      <th>capital.loss</th>\n",
       "      <th>hours.per.week</th>\n",
       "    </tr>\n",
       "  </thead>\n",
       "  <tbody>\n",
       "    <tr>\n",
       "      <th>count</th>\n",
       "      <td>32560.000000</td>\n",
       "      <td>3.256000e+04</td>\n",
       "      <td>32560.000000</td>\n",
       "      <td>32560.000000</td>\n",
       "      <td>32560.000000</td>\n",
       "      <td>32560.000000</td>\n",
       "    </tr>\n",
       "    <tr>\n",
       "      <th>mean</th>\n",
       "      <td>38.581634</td>\n",
       "      <td>1.897818e+05</td>\n",
       "      <td>10.080590</td>\n",
       "      <td>1077.615172</td>\n",
       "      <td>87.306511</td>\n",
       "      <td>40.437469</td>\n",
       "    </tr>\n",
       "    <tr>\n",
       "      <th>std</th>\n",
       "      <td>13.640642</td>\n",
       "      <td>1.055498e+05</td>\n",
       "      <td>2.572709</td>\n",
       "      <td>7385.402999</td>\n",
       "      <td>402.966116</td>\n",
       "      <td>12.347618</td>\n",
       "    </tr>\n",
       "    <tr>\n",
       "      <th>min</th>\n",
       "      <td>17.000000</td>\n",
       "      <td>1.228500e+04</td>\n",
       "      <td>1.000000</td>\n",
       "      <td>0.000000</td>\n",
       "      <td>0.000000</td>\n",
       "      <td>1.000000</td>\n",
       "    </tr>\n",
       "    <tr>\n",
       "      <th>25%</th>\n",
       "      <td>28.000000</td>\n",
       "      <td>1.178315e+05</td>\n",
       "      <td>9.000000</td>\n",
       "      <td>0.000000</td>\n",
       "      <td>0.000000</td>\n",
       "      <td>40.000000</td>\n",
       "    </tr>\n",
       "    <tr>\n",
       "      <th>50%</th>\n",
       "      <td>37.000000</td>\n",
       "      <td>1.783630e+05</td>\n",
       "      <td>10.000000</td>\n",
       "      <td>0.000000</td>\n",
       "      <td>0.000000</td>\n",
       "      <td>40.000000</td>\n",
       "    </tr>\n",
       "    <tr>\n",
       "      <th>75%</th>\n",
       "      <td>48.000000</td>\n",
       "      <td>2.370545e+05</td>\n",
       "      <td>12.000000</td>\n",
       "      <td>0.000000</td>\n",
       "      <td>0.000000</td>\n",
       "      <td>45.000000</td>\n",
       "    </tr>\n",
       "    <tr>\n",
       "      <th>max</th>\n",
       "      <td>90.000000</td>\n",
       "      <td>1.484705e+06</td>\n",
       "      <td>16.000000</td>\n",
       "      <td>99999.000000</td>\n",
       "      <td>4356.000000</td>\n",
       "      <td>99.000000</td>\n",
       "    </tr>\n",
       "  </tbody>\n",
       "</table>\n",
       "</div>"
      ],
      "text/plain": [
       "                age        fnlwgt  education.num  capital.gain  capital.loss  \\\n",
       "count  32560.000000  3.256000e+04   32560.000000  32560.000000  32560.000000   \n",
       "mean      38.581634  1.897818e+05      10.080590   1077.615172     87.306511   \n",
       "std       13.640642  1.055498e+05       2.572709   7385.402999    402.966116   \n",
       "min       17.000000  1.228500e+04       1.000000      0.000000      0.000000   \n",
       "25%       28.000000  1.178315e+05       9.000000      0.000000      0.000000   \n",
       "50%       37.000000  1.783630e+05      10.000000      0.000000      0.000000   \n",
       "75%       48.000000  2.370545e+05      12.000000      0.000000      0.000000   \n",
       "max       90.000000  1.484705e+06      16.000000  99999.000000   4356.000000   \n",
       "\n",
       "       hours.per.week  \n",
       "count    32560.000000  \n",
       "mean        40.437469  \n",
       "std         12.347618  \n",
       "min          1.000000  \n",
       "25%         40.000000  \n",
       "50%         40.000000  \n",
       "75%         45.000000  \n",
       "max         99.000000  "
      ]
     },
     "execution_count": 6,
     "metadata": {},
     "output_type": "execute_result"
    }
   ],
   "source": [
    "df.describe()"
   ]
  },
  {
   "cell_type": "markdown",
   "execution_count": null,
   "metadata": {
    "papermill": {
     "duration": 0.032112,
     "end_time": "2020-09-07T02:30:43.488771",
     "exception": false,
     "start_time": "2020-09-07T02:30:43.456659",
     "status": "completed"
    },
    "tags": []
   },
   "source": [
    "Dando uma olhada inicial nos nossos dados numéricos, já podemos perceber algumas coisas interessantes. As variáveis **'capital-gain'** e **'capital.loss'** parecem ser bem esparsas, com a maioria de seus dados sendo iguais a 0. Além disso, o **'capital.gain'** especialmente parece ter alguns outliers, em função de seu grande desvio padrão e de seu máximo de **99999.0**."
   ]
  },
  {
   "cell_type": "markdown",
   "execution_count": null,
   "metadata": {
    "papermill": {
     "duration": 0.032247,
     "end_time": "2020-09-07T02:30:43.554627",
     "exception": false,
     "start_time": "2020-09-07T02:30:43.522380",
     "status": "completed"
    },
    "tags": []
   },
   "source": [
    "<a id=\"section-two\"></a>\n",
    "## 📈 Visualização de Dados\n",
    "\n",
    "Após a importação, podemos começar o processo de **Visualização de Dados**, no qual tentaremos entender melhor a disposição de nossos dados e definir como vamos trabalhar com eles. \n",
    "\n",
    "**[Leitura Recomendada - Visualização e Análise de Dados](https://medium.com/turing-talks/como-visualizar-e-analisar-dados-com-python-f209bfbae68e)**\n",
    "\n",
    "Nosso primeiro passo será importar as bibliotecas *matplotlib* e *seaborn*, muito úteis para a construção de gráficos."
   ]
  },
  {
   "cell_type": "code",
   "execution_count": 7,
   "metadata": {
    "execution": {
     "iopub.execute_input": "2020-09-07T02:30:43.626890Z",
     "iopub.status.busy": "2020-09-07T02:30:43.625870Z",
     "iopub.status.idle": "2020-09-07T02:30:43.776094Z",
     "shell.execute_reply": "2020-09-07T02:30:43.775013Z"
    },
    "papermill": {
     "duration": 0.188859,
     "end_time": "2020-09-07T02:30:43.776304",
     "exception": false,
     "start_time": "2020-09-07T02:30:43.587445",
     "status": "completed"
    },
    "tags": []
   },
   "outputs": [],
   "source": [
    "import matplotlib.pyplot as plt\n",
    "import seaborn as sns"
   ]
  },
  {
   "cell_type": "markdown",
   "execution_count": null,
   "metadata": {
    "papermill": {
     "duration": 0.032751,
     "end_time": "2020-09-07T02:30:43.841512",
     "exception": false,
     "start_time": "2020-09-07T02:30:43.808761",
     "status": "completed"
    },
    "tags": []
   },
   "source": [
    "Em seguida, optei por copiar nosso dataframe para um *df_analysis*, já que será preciso fazer uma pequena mudança para melhor visualizar os dados."
   ]
  },
  {
   "cell_type": "code",
   "execution_count": 8,
   "metadata": {
    "execution": {
     "iopub.execute_input": "2020-09-07T02:30:43.987952Z",
     "iopub.status.busy": "2020-09-07T02:30:43.986645Z",
     "iopub.status.idle": "2020-09-07T02:30:43.995374Z",
     "shell.execute_reply": "2020-09-07T02:30:43.994717Z"
    },
    "papermill": {
     "duration": 0.04782,
     "end_time": "2020-09-07T02:30:43.995521",
     "exception": false,
     "start_time": "2020-09-07T02:30:43.947701",
     "status": "completed"
    },
    "tags": []
   },
   "outputs": [],
   "source": [
    "# Copia \"df\" para \"df_analysis\"\n",
    "df_analysis = df.copy()"
   ]
  },
  {
   "cell_type": "markdown",
   "execution_count": null,
   "metadata": {
    "papermill": {
     "duration": 0.033139,
     "end_time": "2020-09-07T02:30:44.061234",
     "exception": false,
     "start_time": "2020-09-07T02:30:44.028095",
     "status": "completed"
    },
    "tags": []
   },
   "source": [
    "Vamos utilizar a classe **LabelEncoder** do **scikit-learn** para transformar nossa variável de classe **income** em numérica, mapeando todos os valores \"<=50K\" e \">50K\" em 0s e 1s."
   ]
  },
  {
   "cell_type": "code",
   "execution_count": 9,
   "metadata": {
    "execution": {
     "iopub.execute_input": "2020-09-07T02:30:44.134300Z",
     "iopub.status.busy": "2020-09-07T02:30:44.133394Z",
     "iopub.status.idle": "2020-09-07T02:30:44.165178Z",
     "shell.execute_reply": "2020-09-07T02:30:44.164247Z"
    },
    "papermill": {
     "duration": 0.071446,
     "end_time": "2020-09-07T02:30:44.165328",
     "exception": false,
     "start_time": "2020-09-07T02:30:44.093882",
     "status": "completed"
    },
    "tags": []
   },
   "outputs": [],
   "source": [
    "# Importando o LabelEncoder\n",
    "from sklearn.preprocessing import LabelEncoder\n",
    "\n",
    "# Instanciando o LabelEncoder\n",
    "le = LabelEncoder()\n",
    "\n",
    "# Modificando o nosso dataframe, transformando a variável de classe em 0s e 1s\n",
    "df_analysis['income'] = le.fit_transform(df_analysis['income'])"
   ]
  },
  {
   "cell_type": "markdown",
   "execution_count": null,
   "metadata": {
    "papermill": {
     "duration": 0.032724,
     "end_time": "2020-09-07T02:30:44.231117",
     "exception": false,
     "start_time": "2020-09-07T02:30:44.198393",
     "status": "completed"
    },
    "tags": []
   },
   "source": [
    "Agora a nossa coluna **income** contém somente valores numéricos, com os quais poderemos trabalhar muito mais facilmente."
   ]
  },
  {
   "cell_type": "code",
   "execution_count": 10,
   "metadata": {
    "execution": {
     "iopub.execute_input": "2020-09-07T02:30:44.309700Z",
     "iopub.status.busy": "2020-09-07T02:30:44.308687Z",
     "iopub.status.idle": "2020-09-07T02:30:44.313550Z",
     "shell.execute_reply": "2020-09-07T02:30:44.312766Z"
    },
    "papermill": {
     "duration": 0.048685,
     "end_time": "2020-09-07T02:30:44.313700",
     "exception": false,
     "start_time": "2020-09-07T02:30:44.265015",
     "status": "completed"
    },
    "tags": []
   },
   "outputs": [
    {
     "data": {
      "text/plain": [
       "Id\n",
       "16280    0\n",
       "16281    0\n",
       "16282    0\n",
       "16283    0\n",
       "16284    1\n",
       "        ..\n",
       "48835    1\n",
       "48836    0\n",
       "48837    0\n",
       "48838    0\n",
       "48839    0\n",
       "Name: income, Length: 32560, dtype: int64"
      ]
     },
     "execution_count": 10,
     "metadata": {},
     "output_type": "execute_result"
    }
   ],
   "source": [
    "df_analysis['income']"
   ]
  },
  {
   "cell_type": "markdown",
   "execution_count": null,
   "metadata": {
    "papermill": {
     "duration": 0.033842,
     "end_time": "2020-09-07T02:30:44.382868",
     "exception": false,
     "start_time": "2020-09-07T02:30:44.349026",
     "status": "completed"
    },
    "tags": []
   },
   "source": [
    "<a id=\"subsection-two-one\"></a>\n",
    "### 🔢 Visualizando Variáveis Numéricas\n",
    "\n",
    "Como primeiro gráfico, vamos construir um **heatmap** representando a correlação entre as variáveis numéricas do nosso DataFrame:"
   ]
  },
  {
   "cell_type": "code",
   "execution_count": 11,
   "metadata": {
    "execution": {
     "iopub.execute_input": "2020-09-07T02:30:44.459906Z",
     "iopub.status.busy": "2020-09-07T02:30:44.459041Z",
     "iopub.status.idle": "2020-09-07T02:30:44.901775Z",
     "shell.execute_reply": "2020-09-07T02:30:44.900968Z"
    },
    "papermill": {
     "duration": 0.48543,
     "end_time": "2020-09-07T02:30:44.901959",
     "exception": false,
     "start_time": "2020-09-07T02:30:44.416529",
     "status": "completed"
    },
    "tags": []
   },
   "outputs": [
    {
     "data": {
      "image/png": "[encoded data removed]",
      "text/plain": [
       "<Figure size 720x720 with 2 Axes>"
      ]
     },
     "metadata": {
      "needs_background": "light"
     },
     "output_type": "display_data"
    }
   ],
   "source": [
    "mask = np.triu(np.ones_like(df_analysis.corr(), dtype=np.bool))\n",
    "\n",
    "plt.figure(figsize=(10,10))\n",
    "\n",
    "sns.heatmap(df_analysis.corr(), mask=mask, square = True, annot=True, vmin=-1, vmax=1, cmap='autumn')\n",
    "plt.show()"
   ]
  },
  {
   "cell_type": "markdown",
   "execution_count": null,
   "metadata": {
    "papermill": {
     "duration": 0.035218,
     "end_time": "2020-09-07T02:30:44.971917",
     "exception": false,
     "start_time": "2020-09-07T02:30:44.936699",
     "status": "completed"
    },
    "tags": []
   },
   "source": [
    "Cada quadrado do heatmap representa o coeficiente de correlação entre as variáveis correspondentes nos eixos X e Y, e quanto mais próxima de amarelo for sua cor, maior a correlação positiva. Por exemplo, a correlação entre o **\"education.num\"** e a **\"income\"** é de **0.34**, por isto sua cor é mais clara que as outras.\n",
    "\n",
    "No gráfico, podemos observar que todas as nossas variáveis possuem algum grau de correlação com a **\"income\"**, o valor que queremos predizer, exceto pela **\"fnlwgt\"**, que não parece estar relacionada com nenhuma outra variável. Em função disto, parece não existir muito valor em utilizar essa variável como feature, já que ela não ajudará a diferenciar os nossos dados."
   ]
  },
  {
   "cell_type": "markdown",
   "execution_count": null,
   "metadata": {
    "papermill": {
     "duration": 0.033549,
     "end_time": "2020-09-07T02:30:45.039554",
     "exception": false,
     "start_time": "2020-09-07T02:30:45.006005",
     "status": "completed"
    },
    "tags": []
   },
   "source": [
    "Para analisar a distribuição de cada variável, podemos utilizar o método `distplot`:"
   ]
  },
  {
   "cell_type": "code",
   "execution_count": 12,
   "metadata": {
    "execution": {
     "iopub.execute_input": "2020-09-07T02:30:45.121088Z",
     "iopub.status.busy": "2020-09-07T02:30:45.114560Z",
     "iopub.status.idle": "2020-09-07T02:30:45.410509Z",
     "shell.execute_reply": "2020-09-07T02:30:45.409591Z"
    },
    "papermill": {
     "duration": 0.336428,
     "end_time": "2020-09-07T02:30:45.410670",
     "exception": false,
     "start_time": "2020-09-07T02:30:45.074242",
     "status": "completed"
    },
    "tags": []
   },
   "outputs": [
    {
     "data": {
      "image/png": "[encoded data removed]",
      "text/plain": [
       "<Figure size 432x288 with 1 Axes>"
      ]
     },
     "metadata": {
      "needs_background": "light"
     },
     "output_type": "display_data"
    }
   ],
   "source": [
    "sns.distplot(df_analysis['age']);"
   ]
  },
  {
   "cell_type": "markdown",
   "execution_count": null,
   "metadata": {
    "papermill": {
     "duration": 0.035635,
     "end_time": "2020-09-07T02:30:45.483217",
     "exception": false,
     "start_time": "2020-09-07T02:30:45.447582",
     "status": "completed"
    },
    "tags": []
   },
   "source": [
    "Entretanto, vamos focar em analisar a distribuição de cada variável em relação à variável de classe **'income'**, o que pode ser feito por meio do método `catplot`.\n",
    "\n",
    "Com o catplot, podemos traçar um scatter plot simples das nossas variáveis:"
   ]
  },
  {
   "cell_type": "code",
   "execution_count": 13,
   "metadata": {
    "execution": {
     "iopub.execute_input": "2020-09-07T02:30:45.560813Z",
     "iopub.status.busy": "2020-09-07T02:30:45.559494Z",
     "iopub.status.idle": "2020-09-07T02:30:45.988077Z",
     "shell.execute_reply": "2020-09-07T02:30:45.987243Z"
    },
    "papermill": {
     "duration": 0.471,
     "end_time": "2020-09-07T02:30:45.988223",
     "exception": false,
     "start_time": "2020-09-07T02:30:45.517223",
     "status": "completed"
    },
    "tags": []
   },
   "outputs": [
    {
     "data": {
      "image/png": "[encoded data removed]",
      "text/plain": [
       "<Figure size 360x360 with 1 Axes>"
      ]
     },
     "metadata": {
      "needs_background": "light"
     },
     "output_type": "display_data"
    }
   ],
   "source": [
    "sns.catplot(x=\"income\", y=\"hours.per.week\", data=df_analysis);"
   ]
  },
  {
   "cell_type": "markdown",
   "execution_count": null,
   "metadata": {
    "papermill": {
     "duration": 0.035795,
     "end_time": "2020-09-07T02:30:46.059156",
     "exception": false,
     "start_time": "2020-09-07T02:30:46.023361",
     "status": "completed"
    },
    "tags": []
   },
   "source": [
    "Como é possível perceber, esse tipo de visualização acaba não sendo tão útil quando temos muitos dados. Apesar disso, podemos ver que indivíduos que trabalham poucas horas por semana tendem a ganhar menos de 50k por ano.\n",
    "\n",
    "Para visualizar melhor nossas distribuições, vamos utilizar os 'boxen plots', como apresentado a seguir:"
   ]
  },
  {
   "cell_type": "code",
   "execution_count": 14,
   "metadata": {
    "execution": {
     "iopub.execute_input": "2020-09-07T02:30:46.138139Z",
     "iopub.status.busy": "2020-09-07T02:30:46.136930Z",
     "iopub.status.idle": "2020-09-07T02:30:46.383470Z",
     "shell.execute_reply": "2020-09-07T02:30:46.384201Z"
    },
    "papermill": {
     "duration": 0.289804,
     "end_time": "2020-09-07T02:30:46.384420",
     "exception": false,
     "start_time": "2020-09-07T02:30:46.094616",
     "status": "completed"
    },
    "tags": []
   },
   "outputs": [
    {
     "data": {
      "image/png": "[encoded data removed]",
      "text/plain": [
       "<Figure size 360x360 with 1 Axes>"
      ]
     },
     "metadata": {
      "needs_background": "light"
     },
     "output_type": "display_data"
    }
   ],
   "source": [
    "sns.catplot(x=\"income\", y=\"hours.per.week\", kind=\"boxen\", data=df_analysis);"
   ]
  },
  {
   "cell_type": "markdown",
   "execution_count": null,
   "metadata": {
    "papermill": {
     "duration": 0.035679,
     "end_time": "2020-09-07T02:30:46.457272",
     "exception": false,
     "start_time": "2020-09-07T02:30:46.421593",
     "status": "completed"
    },
    "tags": []
   },
   "source": [
    "Agora conseguimos perceber melhor a distribuição das horas semanais bem como sua relação com a renda de cada pessoa. Vamos também traçar esse gráfico para nossas outras variáveis:"
   ]
  },
  {
   "cell_type": "code",
   "execution_count": 15,
   "metadata": {
    "execution": {
     "iopub.execute_input": "2020-09-07T02:30:46.539104Z",
     "iopub.status.busy": "2020-09-07T02:30:46.537866Z",
     "iopub.status.idle": "2020-09-07T02:30:46.922961Z",
     "shell.execute_reply": "2020-09-07T02:30:46.922234Z"
    },
    "papermill": {
     "duration": 0.428477,
     "end_time": "2020-09-07T02:30:46.923126",
     "exception": false,
     "start_time": "2020-09-07T02:30:46.494649",
     "status": "completed"
    },
    "tags": []
   },
   "outputs": [
    {
     "data": {
      "image/png": "[encoded data removed]",
      "text/plain": [
       "<Figure size 360x360 with 1 Axes>"
      ]
     },
     "metadata": {
      "needs_background": "light"
     },
     "output_type": "display_data"
    }
   ],
   "source": [
    "sns.catplot(x=\"income\", y=\"education.num\", kind=\"boxen\", data=df_analysis);"
   ]
  },
  {
   "cell_type": "code",
   "execution_count": 16,
   "metadata": {
    "execution": {
     "iopub.execute_input": "2020-09-07T02:30:47.020703Z",
     "iopub.status.busy": "2020-09-07T02:30:47.019391Z",
     "iopub.status.idle": "2020-09-07T02:30:47.297909Z",
     "shell.execute_reply": "2020-09-07T02:30:47.297114Z"
    },
    "papermill": {
     "duration": 0.332298,
     "end_time": "2020-09-07T02:30:47.298049",
     "exception": false,
     "start_time": "2020-09-07T02:30:46.965751",
     "status": "completed"
    },
    "tags": []
   },
   "outputs": [
    {
     "data": {
      "image/png": "[encoded data removed]",
      "text/plain": [
       "<Figure size 360x360 with 1 Axes>"
      ]
     },
     "metadata": {
      "needs_background": "light"
     },
     "output_type": "display_data"
    }
   ],
   "source": [
    "sns.catplot(x=\"income\", y=\"age\", kind=\"boxen\", data=df_analysis);"
   ]
  },
  {
   "cell_type": "code",
   "execution_count": 17,
   "metadata": {
    "execution": {
     "iopub.execute_input": "2020-09-07T02:30:47.379634Z",
     "iopub.status.busy": "2020-09-07T02:30:47.378723Z",
     "iopub.status.idle": "2020-09-07T02:30:47.611155Z",
     "shell.execute_reply": "2020-09-07T02:30:47.610362Z"
    },
    "papermill": {
     "duration": 0.276113,
     "end_time": "2020-09-07T02:30:47.611293",
     "exception": false,
     "start_time": "2020-09-07T02:30:47.335180",
     "status": "completed"
    },
    "tags": []
   },
   "outputs": [
    {
     "data": {
      "image/png": "[encoded data removed]",
      "text/plain": [
       "<Figure size 360x360 with 1 Axes>"
      ]
     },
     "metadata": {
      "needs_background": "light"
     },
     "output_type": "display_data"
    }
   ],
   "source": [
    "sns.catplot(x=\"income\", y=\"capital.gain\", kind=\"boxen\", data=df_analysis);"
   ]
  },
  {
   "cell_type": "code",
   "execution_count": 18,
   "metadata": {
    "execution": {
     "iopub.execute_input": "2020-09-07T02:30:47.715249Z",
     "iopub.status.busy": "2020-09-07T02:30:47.714011Z",
     "iopub.status.idle": "2020-09-07T02:30:47.943087Z",
     "shell.execute_reply": "2020-09-07T02:30:47.943659Z"
    },
    "papermill": {
     "duration": 0.295506,
     "end_time": "2020-09-07T02:30:47.943872",
     "exception": false,
     "start_time": "2020-09-07T02:30:47.648366",
     "status": "completed"
    },
    "tags": []
   },
   "outputs": [
    {
     "data": {
      "image/png": "[encoded data removed]",
      "text/plain": [
       "<Figure size 360x360 with 1 Axes>"
      ]
     },
     "metadata": {
      "needs_background": "light"
     },
     "output_type": "display_data"
    }
   ],
   "source": [
    "sns.catplot(x=\"income\", y=\"capital.loss\", kind=\"boxen\", data=df_analysis);"
   ]
  },
  {
   "cell_type": "markdown",
   "execution_count": null,
   "metadata": {
    "papermill": {
     "duration": 0.037493,
     "end_time": "2020-09-07T02:30:48.018443",
     "exception": false,
     "start_time": "2020-09-07T02:30:47.980950",
     "status": "completed"
    },
    "tags": []
   },
   "source": [
    "Esses dois últimos gráficos, de **'capital.gain'** e **'capital.loss'**, certamente parecem diferir bastante dos anteriores. Quando traçamos novamente os scatter plots, o motivo fica bem mais claro:"
   ]
  },
  {
   "cell_type": "code",
   "execution_count": 19,
   "metadata": {
    "execution": {
     "iopub.execute_input": "2020-09-07T02:30:48.099206Z",
     "iopub.status.busy": "2020-09-07T02:30:48.098322Z",
     "iopub.status.idle": "2020-09-07T02:30:48.506845Z",
     "shell.execute_reply": "2020-09-07T02:30:48.505978Z"
    },
    "papermill": {
     "duration": 0.452045,
     "end_time": "2020-09-07T02:30:48.506989",
     "exception": false,
     "start_time": "2020-09-07T02:30:48.054944",
     "status": "completed"
    },
    "tags": []
   },
   "outputs": [
    {
     "data": {
      "image/png": "[encoded data removed]",
      "text/plain": [
       "<Figure size 360x360 with 1 Axes>"
      ]
     },
     "metadata": {
      "needs_background": "light"
     },
     "output_type": "display_data"
    }
   ],
   "source": [
    "sns.catplot(x=\"income\", y=\"capital.gain\", data=df_analysis);"
   ]
  },
  {
   "cell_type": "code",
   "execution_count": 20,
   "metadata": {
    "execution": {
     "iopub.execute_input": "2020-09-07T02:30:48.592224Z",
     "iopub.status.busy": "2020-09-07T02:30:48.591352Z",
     "iopub.status.idle": "2020-09-07T02:30:49.000058Z",
     "shell.execute_reply": "2020-09-07T02:30:48.999242Z"
    },
    "papermill": {
     "duration": 0.453757,
     "end_time": "2020-09-07T02:30:49.000205",
     "exception": false,
     "start_time": "2020-09-07T02:30:48.546448",
     "status": "completed"
    },
    "tags": []
   },
   "outputs": [
    {
     "data": {
      "image/png": "[encoded data removed]",
      "text/plain": [
       "<Figure size 360x360 with 1 Axes>"
      ]
     },
     "metadata": {
      "needs_background": "light"
     },
     "output_type": "display_data"
    }
   ],
   "source": [
    "sns.catplot(x=\"income\", y=\"capital.loss\", data=df_analysis);"
   ]
  },
  {
   "cell_type": "markdown",
   "execution_count": null,
   "metadata": {
    "papermill": {
     "duration": 0.038072,
     "end_time": "2020-09-07T02:30:49.076553",
     "exception": false,
     "start_time": "2020-09-07T02:30:49.038481",
     "status": "completed"
    },
    "tags": []
   },
   "source": [
    "Quando usamos o método `describe` do DataFrame no início do notebook, percebemos que essas duas variáveis pareciam bem esparsas e com alguns outliers. Com esses gráficos, essa distribuição fica ainda mais clara. É importante manter esse fato em mente, depois vamos utilizá-lo para fazer o pré-processamento dos nossos dados."
   ]
  },
  {
   "cell_type": "code",
   "execution_count": 21,
   "metadata": {
    "execution": {
     "iopub.execute_input": "2020-09-07T02:30:49.163517Z",
     "iopub.status.busy": "2020-09-07T02:30:49.162612Z",
     "iopub.status.idle": "2020-09-07T02:30:49.203021Z",
     "shell.execute_reply": "2020-09-07T02:30:49.202163Z"
    },
    "papermill": {
     "duration": 0.087808,
     "end_time": "2020-09-07T02:30:49.203171",
     "exception": false,
     "start_time": "2020-09-07T02:30:49.115363",
     "status": "completed"
    },
    "tags": []
   },
   "outputs": [
    {
     "data": {
      "text/html": [
       "<div>\n",
       "<style scoped>\n",
       "    .dataframe tbody tr th:only-of-type {\n",
       "        vertical-align: middle;\n",
       "    }\n",
       "\n",
       "    .dataframe tbody tr th {\n",
       "        vertical-align: top;\n",
       "    }\n",
       "\n",
       "    .dataframe thead th {\n",
       "        text-align: right;\n",
       "    }\n",
       "</style>\n",
       "<table border=\"1\" class=\"dataframe\">\n",
       "  <thead>\n",
       "    <tr style=\"text-align: right;\">\n",
       "      <th></th>\n",
       "      <th>age</th>\n",
       "      <th>fnlwgt</th>\n",
       "      <th>education.num</th>\n",
       "      <th>capital.gain</th>\n",
       "      <th>capital.loss</th>\n",
       "      <th>hours.per.week</th>\n",
       "      <th>income</th>\n",
       "    </tr>\n",
       "  </thead>\n",
       "  <tbody>\n",
       "    <tr>\n",
       "      <th>count</th>\n",
       "      <td>32560.000000</td>\n",
       "      <td>3.256000e+04</td>\n",
       "      <td>32560.000000</td>\n",
       "      <td>32560.000000</td>\n",
       "      <td>32560.000000</td>\n",
       "      <td>32560.000000</td>\n",
       "      <td>32560.000000</td>\n",
       "    </tr>\n",
       "    <tr>\n",
       "      <th>mean</th>\n",
       "      <td>38.581634</td>\n",
       "      <td>1.897818e+05</td>\n",
       "      <td>10.080590</td>\n",
       "      <td>1077.615172</td>\n",
       "      <td>87.306511</td>\n",
       "      <td>40.437469</td>\n",
       "      <td>0.240817</td>\n",
       "    </tr>\n",
       "    <tr>\n",
       "      <th>std</th>\n",
       "      <td>13.640642</td>\n",
       "      <td>1.055498e+05</td>\n",
       "      <td>2.572709</td>\n",
       "      <td>7385.402999</td>\n",
       "      <td>402.966116</td>\n",
       "      <td>12.347618</td>\n",
       "      <td>0.427586</td>\n",
       "    </tr>\n",
       "    <tr>\n",
       "      <th>min</th>\n",
       "      <td>17.000000</td>\n",
       "      <td>1.228500e+04</td>\n",
       "      <td>1.000000</td>\n",
       "      <td>0.000000</td>\n",
       "      <td>0.000000</td>\n",
       "      <td>1.000000</td>\n",
       "      <td>0.000000</td>\n",
       "    </tr>\n",
       "    <tr>\n",
       "      <th>25%</th>\n",
       "      <td>28.000000</td>\n",
       "      <td>1.178315e+05</td>\n",
       "      <td>9.000000</td>\n",
       "      <td>0.000000</td>\n",
       "      <td>0.000000</td>\n",
       "      <td>40.000000</td>\n",
       "      <td>0.000000</td>\n",
       "    </tr>\n",
       "    <tr>\n",
       "      <th>50%</th>\n",
       "      <td>37.000000</td>\n",
       "      <td>1.783630e+05</td>\n",
       "      <td>10.000000</td>\n",
       "      <td>0.000000</td>\n",
       "      <td>0.000000</td>\n",
       "      <td>40.000000</td>\n",
       "      <td>0.000000</td>\n",
       "    </tr>\n",
       "    <tr>\n",
       "      <th>75%</th>\n",
       "      <td>48.000000</td>\n",
       "      <td>2.370545e+05</td>\n",
       "      <td>12.000000</td>\n",
       "      <td>0.000000</td>\n",
       "      <td>0.000000</td>\n",
       "      <td>45.000000</td>\n",
       "      <td>0.000000</td>\n",
       "    </tr>\n",
       "    <tr>\n",
       "      <th>max</th>\n",
       "      <td>90.000000</td>\n",
       "      <td>1.484705e+06</td>\n",
       "      <td>16.000000</td>\n",
       "      <td>99999.000000</td>\n",
       "      <td>4356.000000</td>\n",
       "      <td>99.000000</td>\n",
       "      <td>1.000000</td>\n",
       "    </tr>\n",
       "  </tbody>\n",
       "</table>\n",
       "</div>"
      ],
      "text/plain": [
       "                age        fnlwgt  education.num  capital.gain  capital.loss  \\\n",
       "count  32560.000000  3.256000e+04   32560.000000  32560.000000  32560.000000   \n",
       "mean      38.581634  1.897818e+05      10.080590   1077.615172     87.306511   \n",
       "std       13.640642  1.055498e+05       2.572709   7385.402999    402.966116   \n",
       "min       17.000000  1.228500e+04       1.000000      0.000000      0.000000   \n",
       "25%       28.000000  1.178315e+05       9.000000      0.000000      0.000000   \n",
       "50%       37.000000  1.783630e+05      10.000000      0.000000      0.000000   \n",
       "75%       48.000000  2.370545e+05      12.000000      0.000000      0.000000   \n",
       "max       90.000000  1.484705e+06      16.000000  99999.000000   4356.000000   \n",
       "\n",
       "       hours.per.week        income  \n",
       "count    32560.000000  32560.000000  \n",
       "mean        40.437469      0.240817  \n",
       "std         12.347618      0.427586  \n",
       "min          1.000000      0.000000  \n",
       "25%         40.000000      0.000000  \n",
       "50%         40.000000      0.000000  \n",
       "75%         45.000000      0.000000  \n",
       "max         99.000000      1.000000  "
      ]
     },
     "execution_count": 21,
     "metadata": {},
     "output_type": "execute_result"
    }
   ],
   "source": [
    "df_analysis.describe()"
   ]
  },
  {
   "cell_type": "markdown",
   "execution_count": null,
   "metadata": {
    "papermill": {
     "duration": 0.037723,
     "end_time": "2020-09-07T02:30:49.279170",
     "exception": false,
     "start_time": "2020-09-07T02:30:49.241447",
     "status": "completed"
    },
    "tags": []
   },
   "source": [
    "<a id=\"subsection-two-two\"></a>\n",
    "### 📊 Visualizando Variáveis Categóricas\n",
    "\n",
    "Para visualizar as variáveis categóricas, precisaremos de outros tipos de gráficos para representar claramente nossas diferentes categorias. Nesse caso, vamos recorrer aos gráficos de barras para comparar a renda de vários grupos.\n",
    "\n",
    "O método `catplot` da biblioteca *seaborn* é uma ótima opção para traçar os gráficos com variáveis categóricas, e só precisamos especificar o parâmetro `kind` para obter vários tipos de gráficos diferentes.\n",
    "\n",
    "Primeiramente, vamos representar o gráfico do **sexo** de cada pessoa pela probabilidade de cada uma ganhar mais de 50k por ano:"
   ]
  },
  {
   "cell_type": "code",
   "execution_count": 22,
   "metadata": {
    "execution": {
     "iopub.execute_input": "2020-09-07T02:30:49.369654Z",
     "iopub.status.busy": "2020-09-07T02:30:49.368781Z",
     "iopub.status.idle": "2020-09-07T02:30:49.959478Z",
     "shell.execute_reply": "2020-09-07T02:30:49.958586Z"
    },
    "papermill": {
     "duration": 0.640894,
     "end_time": "2020-09-07T02:30:49.959624",
     "exception": false,
     "start_time": "2020-09-07T02:30:49.318730",
     "status": "completed"
    },
    "tags": []
   },
   "outputs": [
    {
     "data": {
      "image/png": "[encoded data removed]",
      "text/plain": [
       "<Figure size 360x360 with 1 Axes>"
      ]
     },
     "metadata": {
      "needs_background": "light"
     },
     "output_type": "display_data"
    }
   ],
   "source": [
    "sns.catplot(y=\"sex\", x=\"income\", kind=\"bar\", data=df_analysis);"
   ]
  },
  {
   "cell_type": "markdown",
   "execution_count": null,
   "metadata": {
    "papermill": {
     "duration": 0.038791,
     "end_time": "2020-09-07T02:30:50.037727",
     "exception": false,
     "start_time": "2020-09-07T02:30:49.998936",
     "status": "completed"
    },
    "tags": []
   },
   "source": [
    "**É uma diferença bem grande!** \n",
    "\n",
    "Enquanto **30%** dos homens ganham mais que 50k por ano, somente **10%** das mulheres ultrapassam esse total."
   ]
  },
  {
   "cell_type": "markdown",
   "execution_count": null,
   "metadata": {
    "papermill": {
     "duration": 0.038264,
     "end_time": "2020-09-07T02:30:50.115035",
     "exception": false,
     "start_time": "2020-09-07T02:30:50.076771",
     "status": "completed"
    },
    "tags": []
   },
   "source": [
    "Em seguida, podemos traçar o mesmo gráfico para as diferentes etnias do nosso dataset:"
   ]
  },
  {
   "cell_type": "code",
   "execution_count": 23,
   "metadata": {
    "execution": {
     "iopub.execute_input": "2020-09-07T02:30:50.207039Z",
     "iopub.status.busy": "2020-09-07T02:30:50.206222Z",
     "iopub.status.idle": "2020-09-07T02:30:50.941475Z",
     "shell.execute_reply": "2020-09-07T02:30:50.940796Z"
    },
    "papermill": {
     "duration": 0.787486,
     "end_time": "2020-09-07T02:30:50.941629",
     "exception": false,
     "start_time": "2020-09-07T02:30:50.154143",
     "status": "completed"
    },
    "tags": []
   },
   "outputs": [
    {
     "data": {
      "image/png": "[encoded data removed]",
      "text/plain": [
       "<Figure size 360x360 with 1 Axes>"
      ]
     },
     "metadata": {
      "needs_background": "light"
     },
     "output_type": "display_data"
    }
   ],
   "source": [
    "sns.catplot(y=\"race\", x=\"income\", kind=\"bar\", data=df_analysis);"
   ]
  },
  {
   "cell_type": "markdown",
   "execution_count": null,
   "metadata": {
    "papermill": {
     "duration": 0.040593,
     "end_time": "2020-09-07T02:30:51.028605",
     "exception": false,
     "start_time": "2020-09-07T02:30:50.988012",
     "status": "completed"
    },
    "tags": []
   },
   "source": [
    "A desigualdade também está presente nesse caso. A etnia de cada indivíduo parece ter uma relação bem grande com sua probabilidade de ganhar mais de 50k."
   ]
  },
  {
   "cell_type": "markdown",
   "execution_count": null,
   "metadata": {
    "papermill": {
     "duration": 0.041139,
     "end_time": "2020-09-07T02:30:51.112109",
     "exception": false,
     "start_time": "2020-09-07T02:30:51.070970",
     "status": "completed"
    },
    "tags": []
   },
   "source": [
    "Vamos fazer o mesmo para as outras três variáveis categóricas do nosso dataset:"
   ]
  },
  {
   "cell_type": "code",
   "execution_count": 24,
   "metadata": {
    "execution": {
     "iopub.execute_input": "2020-09-07T02:30:51.213652Z",
     "iopub.status.busy": "2020-09-07T02:30:51.212814Z",
     "iopub.status.idle": "2020-09-07T02:30:51.995058Z",
     "shell.execute_reply": "2020-09-07T02:30:51.994237Z"
    },
    "papermill": {
     "duration": 0.841145,
     "end_time": "2020-09-07T02:30:51.995205",
     "exception": false,
     "start_time": "2020-09-07T02:30:51.154060",
     "status": "completed"
    },
    "tags": []
   },
   "outputs": [
    {
     "data": {
      "image/png": "[encoded data removed]",
      "text/plain": [
       "<Figure size 360x360 with 1 Axes>"
      ]
     },
     "metadata": {
      "needs_background": "light"
     },
     "output_type": "display_data"
    }
   ],
   "source": [
    "sns.catplot(y=\"workclass\", x=\"income\", kind=\"bar\", data=df_analysis);"
   ]
  },
  {
   "cell_type": "code",
   "execution_count": 25,
   "metadata": {
    "execution": {
     "iopub.execute_input": "2020-09-07T02:30:52.091906Z",
     "iopub.status.busy": "2020-09-07T02:30:52.090615Z",
     "iopub.status.idle": "2020-09-07T02:30:53.191376Z",
     "shell.execute_reply": "2020-09-07T02:30:53.192022Z"
    },
    "papermill": {
     "duration": 1.15753,
     "end_time": "2020-09-07T02:30:53.192214",
     "exception": false,
     "start_time": "2020-09-07T02:30:52.034684",
     "status": "completed"
    },
    "tags": []
   },
   "outputs": [
    {
     "data": {
      "image/png": "[encoded data removed]",
      "text/plain": [
       "<Figure size 360x360 with 1 Axes>"
      ]
     },
     "metadata": {
      "needs_background": "light"
     },
     "output_type": "display_data"
    }
   ],
   "source": [
    "sns.catplot(y=\"occupation\", x=\"income\", kind=\"bar\", data=df_analysis);"
   ]
  },
  {
   "cell_type": "code",
   "execution_count": 26,
   "metadata": {
    "execution": {
     "iopub.execute_input": "2020-09-07T02:30:53.291498Z",
     "iopub.status.busy": "2020-09-07T02:30:53.290626Z",
     "iopub.status.idle": "2020-09-07T02:30:55.579547Z",
     "shell.execute_reply": "2020-09-07T02:30:55.578751Z"
    },
    "papermill": {
     "duration": 2.346998,
     "end_time": "2020-09-07T02:30:55.579686",
     "exception": false,
     "start_time": "2020-09-07T02:30:53.232688",
     "status": "completed"
    },
    "tags": []
   },
   "outputs": [
    {
     "data": {
      "image/png": "[encoded data removed]",
      "text/plain": [
       "<Figure size 360x360 with 1 Axes>"
      ]
     },
     "metadata": {
      "needs_background": "light"
     },
     "output_type": "display_data"
    }
   ],
   "source": [
    "sns.catplot(y=\"native.country\", x=\"income\", kind=\"bar\", data=df_analysis);"
   ]
  },
  {
   "cell_type": "markdown",
   "execution_count": null,
   "metadata": {
    "papermill": {
     "duration": 0.040083,
     "end_time": "2020-09-07T02:30:55.662779",
     "exception": false,
     "start_time": "2020-09-07T02:30:55.622696",
     "status": "completed"
    },
    "tags": []
   },
   "source": [
    "Olhando por cima, todas as nossas variáveis parecem estar ligadas de alguma forma com a renda dos indivíduos.\n",
    "\n",
    "Principalmente nesse último gráfico, você deve ter percebido as linhas pretas em cima de cada uma das barras. Essas linhas representam a variação de renda dentro de cada grupo. A maioria dos países possui uma variação muito grande, tão grande que não podemos ter muita certeza de seu valor real.\n",
    "\n",
    "Quando analisamos a quantidade de indivíduos de cada nação no nosso dataset, essa variação começa a fazer mais sentido:"
   ]
  },
  {
   "cell_type": "code",
   "execution_count": 27,
   "metadata": {
    "execution": {
     "iopub.execute_input": "2020-09-07T02:30:55.763168Z",
     "iopub.status.busy": "2020-09-07T02:30:55.762040Z",
     "iopub.status.idle": "2020-09-07T02:30:55.766860Z",
     "shell.execute_reply": "2020-09-07T02:30:55.767435Z"
    },
    "papermill": {
     "duration": 0.063996,
     "end_time": "2020-09-07T02:30:55.767637",
     "exception": false,
     "start_time": "2020-09-07T02:30:55.703641",
     "status": "completed"
    },
    "tags": []
   },
   "outputs": [
    {
     "data": {
      "text/plain": [
       "United-States                 29169\n",
       "Mexico                          643\n",
       "Philippines                     198\n",
       "Germany                         137\n",
       "Canada                          121\n",
       "Puerto-Rico                     114\n",
       "El-Salvador                     106\n",
       "India                           100\n",
       "Cuba                             95\n",
       "England                          90\n",
       "Jamaica                          81\n",
       "South                            80\n",
       "China                            75\n",
       "Italy                            73\n",
       "Dominican-Republic               70\n",
       "Vietnam                          67\n",
       "Guatemala                        64\n",
       "Japan                            62\n",
       "Poland                           60\n",
       "Columbia                         59\n",
       "Taiwan                           51\n",
       "Haiti                            44\n",
       "Iran                             43\n",
       "Portugal                         37\n",
       "Nicaragua                        34\n",
       "Peru                             31\n",
       "France                           29\n",
       "Greece                           29\n",
       "Ecuador                          28\n",
       "Ireland                          24\n",
       "Hong                             20\n",
       "Cambodia                         19\n",
       "Trinadad&Tobago                  19\n",
       "Laos                             18\n",
       "Thailand                         18\n",
       "Yugoslavia                       16\n",
       "Outlying-US(Guam-USVI-etc)       14\n",
       "Honduras                         13\n",
       "Hungary                          13\n",
       "Scotland                         12\n",
       "Holand-Netherlands                1\n",
       "Name: native.country, dtype: int64"
      ]
     },
     "execution_count": 27,
     "metadata": {},
     "output_type": "execute_result"
    }
   ],
   "source": [
    "df_analysis[\"native.country\"].value_counts()"
   ]
  },
  {
   "cell_type": "markdown",
   "execution_count": null,
   "metadata": {
    "papermill": {
     "duration": 0.04041,
     "end_time": "2020-09-07T02:30:55.851518",
     "exception": false,
     "start_time": "2020-09-07T02:30:55.811108",
     "status": "completed"
    },
    "tags": []
   },
   "source": [
    "Temos um caso bem extremo de dados desbalanceados, a **grande maioria** dos nossos indivíduos é dos Estados Unidos, 90% da quantidade total. Para efeito de comparação, o México representa somente 2% do nosso dataset.\n",
    "\n",
    "Apesar de existirem maneiras de lidar com esse tipo de problema, para simplificar optei por remover essa coluna."
   ]
  },
  {
   "cell_type": "markdown",
   "execution_count": null,
   "metadata": {
    "papermill": {
     "duration": 0.040058,
     "end_time": "2020-09-07T02:30:55.931974",
     "exception": false,
     "start_time": "2020-09-07T02:30:55.891916",
     "status": "completed"
    },
    "tags": []
   },
   "source": [
    "<a id=\"section-three\"></a>\n",
    "## 🧹 Limpeza de Dados\n",
    "\n",
    "Agora que temos uma boa noção dos nossos dados, podemos começar a preparação e a limpeza deles para facilitar o trabalho do nosso modelo. Caso queria ler um pouco mais sobre esse processo, você pode dar uma lida nesse texto:\n",
    "\n",
    "[Leitura Recomendada](https://medium.com/turing-talks/como-fazer-uma-limpeza-de-dados-completa-em-python-7abc9dfc19b8)"
   ]
  },
  {
   "cell_type": "markdown",
   "execution_count": null,
   "metadata": {
    "papermill": {
     "duration": 0.041504,
     "end_time": "2020-09-07T02:30:56.015092",
     "exception": false,
     "start_time": "2020-09-07T02:30:55.973588",
     "status": "completed"
    },
    "tags": []
   },
   "source": [
    "A primeira limpeza que faremos é remover os dados duplicados. Para isto, podemos utilizar o método `drop_duplicates` do nosso dataframe:"
   ]
  },
  {
   "cell_type": "code",
   "execution_count": 28,
   "metadata": {
    "execution": {
     "iopub.execute_input": "2020-09-07T02:30:56.112477Z",
     "iopub.status.busy": "2020-09-07T02:30:56.107434Z",
     "iopub.status.idle": "2020-09-07T02:30:56.171508Z",
     "shell.execute_reply": "2020-09-07T02:30:56.170799Z"
    },
    "papermill": {
     "duration": 0.114981,
     "end_time": "2020-09-07T02:30:56.171677",
     "exception": false,
     "start_time": "2020-09-07T02:30:56.056696",
     "status": "completed"
    },
    "tags": []
   },
   "outputs": [],
   "source": [
    "df.drop_duplicates(keep='first', inplace=True)"
   ]
  },
  {
   "cell_type": "markdown",
   "execution_count": null,
   "metadata": {
    "papermill": {
     "duration": 0.041738,
     "end_time": "2020-09-07T02:30:56.254736",
     "exception": false,
     "start_time": "2020-09-07T02:30:56.212998",
     "status": "completed"
    },
    "tags": []
   },
   "source": [
    "Em seguida, vamos remover algumas colunas que não consideramos tão importantes:"
   ]
  },
  {
   "cell_type": "code",
   "execution_count": 29,
   "metadata": {
    "execution": {
     "iopub.execute_input": "2020-09-07T02:30:56.347331Z",
     "iopub.status.busy": "2020-09-07T02:30:56.346464Z",
     "iopub.status.idle": "2020-09-07T02:30:56.353425Z",
     "shell.execute_reply": "2020-09-07T02:30:56.352612Z"
    },
    "papermill": {
     "duration": 0.056374,
     "end_time": "2020-09-07T02:30:56.353569",
     "exception": false,
     "start_time": "2020-09-07T02:30:56.297195",
     "status": "completed"
    },
    "tags": []
   },
   "outputs": [],
   "source": [
    "df = df.drop(['fnlwgt', 'native.country', 'education'], axis=1)"
   ]
  },
  {
   "cell_type": "markdown",
   "execution_count": null,
   "metadata": {
    "papermill": {
     "duration": 0.040325,
     "end_time": "2020-09-07T02:30:56.434574",
     "exception": false,
     "start_time": "2020-09-07T02:30:56.394249",
     "status": "completed"
    },
    "tags": []
   },
   "source": [
    "Agora, podemos ver como ficou o nosso dataframe:"
   ]
  },
  {
   "cell_type": "code",
   "execution_count": 30,
   "metadata": {
    "execution": {
     "iopub.execute_input": "2020-09-07T02:30:56.538738Z",
     "iopub.status.busy": "2020-09-07T02:30:56.537720Z",
     "iopub.status.idle": "2020-09-07T02:30:56.542982Z",
     "shell.execute_reply": "2020-09-07T02:30:56.542185Z"
    },
    "papermill": {
     "duration": 0.066756,
     "end_time": "2020-09-07T02:30:56.543129",
     "exception": false,
     "start_time": "2020-09-07T02:30:56.476373",
     "status": "completed"
    },
    "tags": []
   },
   "outputs": [
    {
     "data": {
      "text/html": [
       "<div>\n",
       "<style scoped>\n",
       "    .dataframe tbody tr th:only-of-type {\n",
       "        vertical-align: middle;\n",
       "    }\n",
       "\n",
       "    .dataframe tbody tr th {\n",
       "        vertical-align: top;\n",
       "    }\n",
       "\n",
       "    .dataframe thead th {\n",
       "        text-align: right;\n",
       "    }\n",
       "</style>\n",
       "<table border=\"1\" class=\"dataframe\">\n",
       "  <thead>\n",
       "    <tr style=\"text-align: right;\">\n",
       "      <th></th>\n",
       "      <th>age</th>\n",
       "      <th>workclass</th>\n",
       "      <th>education.num</th>\n",
       "      <th>marital.status</th>\n",
       "      <th>occupation</th>\n",
       "      <th>relationship</th>\n",
       "      <th>race</th>\n",
       "      <th>sex</th>\n",
       "      <th>capital.gain</th>\n",
       "      <th>capital.loss</th>\n",
       "      <th>hours.per.week</th>\n",
       "      <th>income</th>\n",
       "    </tr>\n",
       "    <tr>\n",
       "      <th>Id</th>\n",
       "      <th></th>\n",
       "      <th></th>\n",
       "      <th></th>\n",
       "      <th></th>\n",
       "      <th></th>\n",
       "      <th></th>\n",
       "      <th></th>\n",
       "      <th></th>\n",
       "      <th></th>\n",
       "      <th></th>\n",
       "      <th></th>\n",
       "      <th></th>\n",
       "    </tr>\n",
       "  </thead>\n",
       "  <tbody>\n",
       "    <tr>\n",
       "      <th>16280</th>\n",
       "      <td>34</td>\n",
       "      <td>Private</td>\n",
       "      <td>10</td>\n",
       "      <td>Divorced</td>\n",
       "      <td>Exec-managerial</td>\n",
       "      <td>Own-child</td>\n",
       "      <td>White</td>\n",
       "      <td>Male</td>\n",
       "      <td>0</td>\n",
       "      <td>0</td>\n",
       "      <td>44</td>\n",
       "      <td>&lt;=50K</td>\n",
       "    </tr>\n",
       "    <tr>\n",
       "      <th>16281</th>\n",
       "      <td>58</td>\n",
       "      <td>Local-gov</td>\n",
       "      <td>6</td>\n",
       "      <td>Married-civ-spouse</td>\n",
       "      <td>Transport-moving</td>\n",
       "      <td>Husband</td>\n",
       "      <td>White</td>\n",
       "      <td>Male</td>\n",
       "      <td>0</td>\n",
       "      <td>0</td>\n",
       "      <td>40</td>\n",
       "      <td>&lt;=50K</td>\n",
       "    </tr>\n",
       "    <tr>\n",
       "      <th>16282</th>\n",
       "      <td>25</td>\n",
       "      <td>Private</td>\n",
       "      <td>10</td>\n",
       "      <td>Never-married</td>\n",
       "      <td>Machine-op-inspct</td>\n",
       "      <td>Not-in-family</td>\n",
       "      <td>White</td>\n",
       "      <td>Male</td>\n",
       "      <td>0</td>\n",
       "      <td>0</td>\n",
       "      <td>42</td>\n",
       "      <td>&lt;=50K</td>\n",
       "    </tr>\n",
       "    <tr>\n",
       "      <th>16283</th>\n",
       "      <td>24</td>\n",
       "      <td>Private</td>\n",
       "      <td>10</td>\n",
       "      <td>Divorced</td>\n",
       "      <td>Adm-clerical</td>\n",
       "      <td>Not-in-family</td>\n",
       "      <td>White</td>\n",
       "      <td>Female</td>\n",
       "      <td>0</td>\n",
       "      <td>0</td>\n",
       "      <td>40</td>\n",
       "      <td>&lt;=50K</td>\n",
       "    </tr>\n",
       "    <tr>\n",
       "      <th>16284</th>\n",
       "      <td>57</td>\n",
       "      <td>Self-emp-inc</td>\n",
       "      <td>9</td>\n",
       "      <td>Married-civ-spouse</td>\n",
       "      <td>Transport-moving</td>\n",
       "      <td>Husband</td>\n",
       "      <td>White</td>\n",
       "      <td>Male</td>\n",
       "      <td>5178</td>\n",
       "      <td>0</td>\n",
       "      <td>60</td>\n",
       "      <td>&gt;50K</td>\n",
       "    </tr>\n",
       "  </tbody>\n",
       "</table>\n",
       "</div>"
      ],
      "text/plain": [
       "       age     workclass  education.num      marital.status  \\\n",
       "Id                                                            \n",
       "16280   34       Private             10            Divorced   \n",
       "16281   58     Local-gov              6  Married-civ-spouse   \n",
       "16282   25       Private             10       Never-married   \n",
       "16283   24       Private             10            Divorced   \n",
       "16284   57  Self-emp-inc              9  Married-civ-spouse   \n",
       "\n",
       "              occupation   relationship   race     sex  capital.gain  \\\n",
       "Id                                                                     \n",
       "16280    Exec-managerial      Own-child  White    Male             0   \n",
       "16281   Transport-moving        Husband  White    Male             0   \n",
       "16282  Machine-op-inspct  Not-in-family  White    Male             0   \n",
       "16283       Adm-clerical  Not-in-family  White  Female             0   \n",
       "16284   Transport-moving        Husband  White    Male          5178   \n",
       "\n",
       "       capital.loss  hours.per.week income  \n",
       "Id                                          \n",
       "16280             0              44  <=50K  \n",
       "16281             0              40  <=50K  \n",
       "16282             0              42  <=50K  \n",
       "16283             0              40  <=50K  \n",
       "16284             0              60   >50K  "
      ]
     },
     "execution_count": 30,
     "metadata": {},
     "output_type": "execute_result"
    }
   ],
   "source": [
    "df.head()"
   ]
  },
  {
   "cell_type": "markdown",
   "execution_count": null,
   "metadata": {
    "papermill": {
     "duration": 0.042699,
     "end_time": "2020-09-07T02:30:56.627164",
     "exception": false,
     "start_time": "2020-09-07T02:30:56.584465",
     "status": "completed"
    },
    "tags": []
   },
   "source": [
    "Podemos agora separar os nossos dados em X e Y, sendo X as nossas variáveis independentes e Y a nossa variável de classe:"
   ]
  },
  {
   "cell_type": "code",
   "execution_count": 31,
   "metadata": {
    "execution": {
     "iopub.execute_input": "2020-09-07T02:30:56.716518Z",
     "iopub.status.busy": "2020-09-07T02:30:56.715373Z",
     "iopub.status.idle": "2020-09-07T02:30:56.720449Z",
     "shell.execute_reply": "2020-09-07T02:30:56.719627Z"
    },
    "papermill": {
     "duration": 0.052472,
     "end_time": "2020-09-07T02:30:56.720634",
     "exception": false,
     "start_time": "2020-09-07T02:30:56.668162",
     "status": "completed"
    },
    "tags": []
   },
   "outputs": [],
   "source": [
    "# Removendo a nossa variável de classe\n",
    "Y_train = df.pop('income')\n",
    "\n",
    "X_train = df"
   ]
  },
  {
   "cell_type": "markdown",
   "execution_count": null,
   "metadata": {
    "papermill": {
     "duration": 0.040674,
     "end_time": "2020-09-07T02:30:56.802485",
     "exception": false,
     "start_time": "2020-09-07T02:30:56.761811",
     "status": "completed"
    },
    "tags": []
   },
   "source": [
    "Assim fica o nosso novo dataframe sem a variável de classe:"
   ]
  },
  {
   "cell_type": "code",
   "execution_count": 32,
   "metadata": {
    "execution": {
     "iopub.execute_input": "2020-09-07T02:30:56.906913Z",
     "iopub.status.busy": "2020-09-07T02:30:56.905772Z",
     "iopub.status.idle": "2020-09-07T02:30:56.911243Z",
     "shell.execute_reply": "2020-09-07T02:30:56.910635Z"
    },
    "papermill": {
     "duration": 0.066208,
     "end_time": "2020-09-07T02:30:56.911386",
     "exception": false,
     "start_time": "2020-09-07T02:30:56.845178",
     "status": "completed"
    },
    "tags": []
   },
   "outputs": [
    {
     "data": {
      "text/html": [
       "<div>\n",
       "<style scoped>\n",
       "    .dataframe tbody tr th:only-of-type {\n",
       "        vertical-align: middle;\n",
       "    }\n",
       "\n",
       "    .dataframe tbody tr th {\n",
       "        vertical-align: top;\n",
       "    }\n",
       "\n",
       "    .dataframe thead th {\n",
       "        text-align: right;\n",
       "    }\n",
       "</style>\n",
       "<table border=\"1\" class=\"dataframe\">\n",
       "  <thead>\n",
       "    <tr style=\"text-align: right;\">\n",
       "      <th></th>\n",
       "      <th>age</th>\n",
       "      <th>workclass</th>\n",
       "      <th>education.num</th>\n",
       "      <th>marital.status</th>\n",
       "      <th>occupation</th>\n",
       "      <th>relationship</th>\n",
       "      <th>race</th>\n",
       "      <th>sex</th>\n",
       "      <th>capital.gain</th>\n",
       "      <th>capital.loss</th>\n",
       "      <th>hours.per.week</th>\n",
       "    </tr>\n",
       "    <tr>\n",
       "      <th>Id</th>\n",
       "      <th></th>\n",
       "      <th></th>\n",
       "      <th></th>\n",
       "      <th></th>\n",
       "      <th></th>\n",
       "      <th></th>\n",
       "      <th></th>\n",
       "      <th></th>\n",
       "      <th></th>\n",
       "      <th></th>\n",
       "      <th></th>\n",
       "    </tr>\n",
       "  </thead>\n",
       "  <tbody>\n",
       "    <tr>\n",
       "      <th>16280</th>\n",
       "      <td>34</td>\n",
       "      <td>Private</td>\n",
       "      <td>10</td>\n",
       "      <td>Divorced</td>\n",
       "      <td>Exec-managerial</td>\n",
       "      <td>Own-child</td>\n",
       "      <td>White</td>\n",
       "      <td>Male</td>\n",
       "      <td>0</td>\n",
       "      <td>0</td>\n",
       "      <td>44</td>\n",
       "    </tr>\n",
       "    <tr>\n",
       "      <th>16281</th>\n",
       "      <td>58</td>\n",
       "      <td>Local-gov</td>\n",
       "      <td>6</td>\n",
       "      <td>Married-civ-spouse</td>\n",
       "      <td>Transport-moving</td>\n",
       "      <td>Husband</td>\n",
       "      <td>White</td>\n",
       "      <td>Male</td>\n",
       "      <td>0</td>\n",
       "      <td>0</td>\n",
       "      <td>40</td>\n",
       "    </tr>\n",
       "    <tr>\n",
       "      <th>16282</th>\n",
       "      <td>25</td>\n",
       "      <td>Private</td>\n",
       "      <td>10</td>\n",
       "      <td>Never-married</td>\n",
       "      <td>Machine-op-inspct</td>\n",
       "      <td>Not-in-family</td>\n",
       "      <td>White</td>\n",
       "      <td>Male</td>\n",
       "      <td>0</td>\n",
       "      <td>0</td>\n",
       "      <td>42</td>\n",
       "    </tr>\n",
       "    <tr>\n",
       "      <th>16283</th>\n",
       "      <td>24</td>\n",
       "      <td>Private</td>\n",
       "      <td>10</td>\n",
       "      <td>Divorced</td>\n",
       "      <td>Adm-clerical</td>\n",
       "      <td>Not-in-family</td>\n",
       "      <td>White</td>\n",
       "      <td>Female</td>\n",
       "      <td>0</td>\n",
       "      <td>0</td>\n",
       "      <td>40</td>\n",
       "    </tr>\n",
       "    <tr>\n",
       "      <th>16284</th>\n",
       "      <td>57</td>\n",
       "      <td>Self-emp-inc</td>\n",
       "      <td>9</td>\n",
       "      <td>Married-civ-spouse</td>\n",
       "      <td>Transport-moving</td>\n",
       "      <td>Husband</td>\n",
       "      <td>White</td>\n",
       "      <td>Male</td>\n",
       "      <td>5178</td>\n",
       "      <td>0</td>\n",
       "      <td>60</td>\n",
       "    </tr>\n",
       "  </tbody>\n",
       "</table>\n",
       "</div>"
      ],
      "text/plain": [
       "       age     workclass  education.num      marital.status  \\\n",
       "Id                                                            \n",
       "16280   34       Private             10            Divorced   \n",
       "16281   58     Local-gov              6  Married-civ-spouse   \n",
       "16282   25       Private             10       Never-married   \n",
       "16283   24       Private             10            Divorced   \n",
       "16284   57  Self-emp-inc              9  Married-civ-spouse   \n",
       "\n",
       "              occupation   relationship   race     sex  capital.gain  \\\n",
       "Id                                                                     \n",
       "16280    Exec-managerial      Own-child  White    Male             0   \n",
       "16281   Transport-moving        Husband  White    Male             0   \n",
       "16282  Machine-op-inspct  Not-in-family  White    Male             0   \n",
       "16283       Adm-clerical  Not-in-family  White  Female             0   \n",
       "16284   Transport-moving        Husband  White    Male          5178   \n",
       "\n",
       "       capital.loss  hours.per.week  \n",
       "Id                                   \n",
       "16280             0              44  \n",
       "16281             0              40  \n",
       "16282             0              42  \n",
       "16283             0              40  \n",
       "16284             0              60  "
      ]
     },
     "execution_count": 32,
     "metadata": {},
     "output_type": "execute_result"
    }
   ],
   "source": [
    "X_train.head()"
   ]
  },
  {
   "cell_type": "markdown",
   "execution_count": null,
   "metadata": {
    "papermill": {
     "duration": 0.047561,
     "end_time": "2020-09-07T02:30:57.001591",
     "exception": false,
     "start_time": "2020-09-07T02:30:56.954030",
     "status": "completed"
    },
    "tags": []
   },
   "source": [
    "<a id=\"subsection-three-one\"></a>\n",
    "### ⚗️ Pré-Processamento\n",
    "\n",
    "Para processar nossos dados, vamos dividí-los em três partes diferentes: os dados **categóricos**, os dados **esparsos** e os dados **numéricos**. Dessa forma, poderemos trabalhar com eles de maneira diferente."
   ]
  },
  {
   "cell_type": "code",
   "execution_count": 33,
   "metadata": {
    "execution": {
     "iopub.execute_input": "2020-09-07T02:30:57.102268Z",
     "iopub.status.busy": "2020-09-07T02:30:57.101387Z",
     "iopub.status.idle": "2020-09-07T02:30:57.109550Z",
     "shell.execute_reply": "2020-09-07T02:30:57.110201Z"
    },
    "papermill": {
     "duration": 0.06438,
     "end_time": "2020-09-07T02:30:57.110388",
     "exception": false,
     "start_time": "2020-09-07T02:30:57.046008",
     "status": "completed"
    },
    "tags": []
   },
   "outputs": [
    {
     "name": "stdout",
     "output_type": "stream",
     "text": [
      "Colunas numéricas:  ['age', 'education.num', 'hours.per.week']\n",
      "Colunas esparsas:  ['capital.gain', 'capital.loss']\n",
      "Colunas categóricas:  ['workclass', 'marital.status', 'occupation', 'relationship', 'race', 'sex']\n"
     ]
    }
   ],
   "source": [
    "# Seleciona as variáveis numéricas\n",
    "numerical_cols = list(X_train.select_dtypes(include=[np.number]).columns.values)\n",
    "\n",
    "# Remove as variáveis numéricas esparsas\n",
    "numerical_cols.remove('capital.gain')\n",
    "numerical_cols.remove('capital.loss')\n",
    "\n",
    "# Seleciona as variáveis numéricas esparsas\n",
    "sparse_cols = ['capital.gain', 'capital.loss']\n",
    "\n",
    "# Seleciona as variáveis categóricas\n",
    "categorical_cols = list(X_train.select_dtypes(exclude=[np.number]).columns.values)\n",
    "\n",
    "# Mostrando as diferentes seleções\n",
    "print(\"Colunas numéricas: \", numerical_cols)\n",
    "print(\"Colunas esparsas: \", sparse_cols)\n",
    "print(\"Colunas categóricas: \", categorical_cols)"
   ]
  },
  {
   "cell_type": "markdown",
   "execution_count": null,
   "metadata": {
    "papermill": {
     "duration": 0.041352,
     "end_time": "2020-09-07T02:30:57.193498",
     "exception": false,
     "start_time": "2020-09-07T02:30:57.152146",
     "status": "completed"
    },
    "tags": []
   },
   "source": [
    "#### Dados Categóricos\n",
    "\n",
    "O primeiro passo que tomaremos é completar os dados faltantes do nosso dataset, para o qual usaremos a classe `SimpleImputer` do **scikit-learn**.\n",
    "\n",
    "O `SimpleImputer` é um **transformador** que preenche os dados faltantes de cada variável de acordo com uma estratégia que podemos escolher:\n",
    "\n",
    " - `mean` - Preenche os dados faltantes com a média da coluna\n",
    " - `median` - Preenche os dados faltantes com a mediana da coluna\n",
    " - `most_frequent` - Preenche os dados faltantes com a moda da coluna\n",
    " \n",
    "Para os nossos dados categóricos, escolheremos a estratégia `most_frequent`!\n",
    "\n",
    "A seguir, temos uma explicação do funcionamento desse Imputer:"
   ]
  },
  {
   "cell_type": "code",
   "execution_count": 34,
   "metadata": {
    "execution": {
     "iopub.execute_input": "2020-09-07T02:30:57.284973Z",
     "iopub.status.busy": "2020-09-07T02:30:57.284036Z",
     "iopub.status.idle": "2020-09-07T02:30:57.548660Z",
     "shell.execute_reply": "2020-09-07T02:30:57.547703Z"
    },
    "papermill": {
     "duration": 0.313622,
     "end_time": "2020-09-07T02:30:57.548816",
     "exception": false,
     "start_time": "2020-09-07T02:30:57.235194",
     "status": "completed"
    },
    "tags": []
   },
   "outputs": [],
   "source": [
    "from sklearn.impute import SimpleImputer\n",
    "\n",
    "# Inicializa nosso Imputer\n",
    "simple_imputer = SimpleImputer(strategy='most_frequent')"
   ]
  },
  {
   "cell_type": "code",
   "execution_count": 35,
   "metadata": {
    "execution": {
     "iopub.execute_input": "2020-09-07T02:30:57.652134Z",
     "iopub.status.busy": "2020-09-07T02:30:57.651206Z",
     "iopub.status.idle": "2020-09-07T02:30:57.655944Z",
     "shell.execute_reply": "2020-09-07T02:30:57.654911Z"
    },
    "papermill": {
     "duration": 0.059003,
     "end_time": "2020-09-07T02:30:57.656148",
     "exception": false,
     "start_time": "2020-09-07T02:30:57.597145",
     "status": "completed"
    },
    "tags": []
   },
   "outputs": [
    {
     "name": "stdout",
     "output_type": "stream",
     "text": [
      "[['Female']\n",
      " ['Male']\n",
      " ['Female']\n",
      " ['Female']]\n"
     ]
    }
   ],
   "source": [
    "# Cria um array com um dado faltante\n",
    "array = np.array([[\"Female\"],\n",
    "         [\"Male\"],\n",
    "         [np.nan],\n",
    "         [\"Female\"]], dtype=object)\n",
    "\n",
    "# Preenche o dado faltante com o Imputer\n",
    "new_array = simple_imputer.fit_transform(array)\n",
    "\n",
    "print(new_array)"
   ]
  },
  {
   "cell_type": "markdown",
   "execution_count": null,
   "metadata": {
    "papermill": {
     "duration": 0.042891,
     "end_time": "2020-09-07T02:30:57.741684",
     "exception": false,
     "start_time": "2020-09-07T02:30:57.698793",
     "status": "completed"
    },
    "tags": []
   },
   "source": [
    "Nosso array foi completado com o dado **'Female'**, a moda da nossa variável!\n",
    "\n",
    "Em seguida, precisaremos transformar os dados categóricos em numéricos para que o nosso modelo consiga interpretá-lo. Para isto, vamos utilizar o `OneHotEncoder`.\n",
    "\n",
    "Esse encoder transforma a nossa variável com N classes em N variáveis binárias, indicando se o nosso dado pertence àquela classe. Com o seguinte exemplo essa ideia fica mais clara:"
   ]
  },
  {
   "cell_type": "code",
   "execution_count": 36,
   "metadata": {
    "execution": {
     "iopub.execute_input": "2020-09-07T02:30:57.835774Z",
     "iopub.status.busy": "2020-09-07T02:30:57.834763Z",
     "iopub.status.idle": "2020-09-07T02:30:57.838562Z",
     "shell.execute_reply": "2020-09-07T02:30:57.837945Z"
    },
    "papermill": {
     "duration": 0.053628,
     "end_time": "2020-09-07T02:30:57.838702",
     "exception": false,
     "start_time": "2020-09-07T02:30:57.785074",
     "status": "completed"
    },
    "tags": []
   },
   "outputs": [],
   "source": [
    "from sklearn.preprocessing import OneHotEncoder\n",
    "\n",
    "# Inicializa nosso Encoder\n",
    "one_hot = OneHotEncoder(sparse=False)"
   ]
  },
  {
   "cell_type": "code",
   "execution_count": 37,
   "metadata": {
    "execution": {
     "iopub.execute_input": "2020-09-07T02:30:57.934725Z",
     "iopub.status.busy": "2020-09-07T02:30:57.933713Z",
     "iopub.status.idle": "2020-09-07T02:30:57.939112Z",
     "shell.execute_reply": "2020-09-07T02:30:57.938356Z"
    },
    "papermill": {
     "duration": 0.058355,
     "end_time": "2020-09-07T02:30:57.939259",
     "exception": false,
     "start_time": "2020-09-07T02:30:57.880904",
     "status": "completed"
    },
    "tags": []
   },
   "outputs": [
    {
     "data": {
      "text/plain": [
       "array([[1., 0.],\n",
       "       [0., 1.],\n",
       "       [1., 0.],\n",
       "       [1., 0.]])"
      ]
     },
     "execution_count": 37,
     "metadata": {},
     "output_type": "execute_result"
    }
   ],
   "source": [
    "# Cria um array com dados categóricos\n",
    "array = np.array([[\"Female\"],\n",
    "         [\"Male\"],\n",
    "         [\"Female\"],\n",
    "         [\"Female\"]], dtype=object)\n",
    "\n",
    "# Transforma o nosso array\n",
    "new_array = one_hot.fit_transform(array)\n",
    "\n",
    "new_array"
   ]
  },
  {
   "cell_type": "markdown",
   "execution_count": null,
   "metadata": {
    "papermill": {
     "duration": 0.051493,
     "end_time": "2020-09-07T02:30:58.035045",
     "exception": false,
     "start_time": "2020-09-07T02:30:57.983552",
     "status": "completed"
    },
    "tags": []
   },
   "source": [
    "Ao final da transformação, possuímos duas colunas numéricas diferentes! A primeira indica se o nosso indivíduo é do sexo feminino enquanto a segunda indica se ele é do sexo masculino. Note que apenas uma dessas colunas pode ser igual a **1** para cada linha do nosso array."
   ]
  },
  {
   "cell_type": "markdown",
   "execution_count": null,
   "metadata": {
    "papermill": {
     "duration": 0.053105,
     "end_time": "2020-09-07T02:30:58.135998",
     "exception": false,
     "start_time": "2020-09-07T02:30:58.082893",
     "status": "completed"
    },
    "tags": []
   },
   "source": [
    "Agora que entendemos os nossos transformadores categóricos, podemos construir a nossa **Pipeline** categórica. \n",
    "\n",
    "Uma Pipeline nada mais é que uma sequência de transformadores do scikit-learn. Dessa forma, na célula a seguir estaremos criando uma Pipeline com os dois passos detalhados acima:\n",
    "\n",
    " - Um SimpleImputer\n",
    " - Um OneHotEncoder"
   ]
  },
  {
   "cell_type": "code",
   "execution_count": 38,
   "metadata": {
    "execution": {
     "iopub.execute_input": "2020-09-07T02:30:58.235095Z",
     "iopub.status.busy": "2020-09-07T02:30:58.234135Z",
     "iopub.status.idle": "2020-09-07T02:30:58.239837Z",
     "shell.execute_reply": "2020-09-07T02:30:58.238992Z"
    },
    "papermill": {
     "duration": 0.056185,
     "end_time": "2020-09-07T02:30:58.239987",
     "exception": false,
     "start_time": "2020-09-07T02:30:58.183802",
     "status": "completed"
    },
    "tags": []
   },
   "outputs": [],
   "source": [
    "from sklearn.pipeline import Pipeline\n",
    "\n",
    "# Cria a nossa pipeline categórica\n",
    "categorical_pipeline = Pipeline(steps = [\n",
    "    ('imputer', SimpleImputer(strategy = 'most_frequent')),\n",
    "    ('onehot', OneHotEncoder(drop='if_binary'))\n",
    "])"
   ]
  },
  {
   "cell_type": "markdown",
   "execution_count": null,
   "metadata": {
    "papermill": {
     "duration": 0.099747,
     "end_time": "2020-09-07T02:30:58.383926",
     "exception": false,
     "start_time": "2020-09-07T02:30:58.284179",
     "status": "completed"
    },
    "tags": []
   },
   "source": [
    "Agora, podemos usar essa Pipeline para aplicar os dois passos anteriores com apenas um `fit_transform`:"
   ]
  },
  {
   "cell_type": "code",
   "execution_count": 39,
   "metadata": {
    "execution": {
     "iopub.execute_input": "2020-09-07T02:30:58.480534Z",
     "iopub.status.busy": "2020-09-07T02:30:58.479672Z",
     "iopub.status.idle": "2020-09-07T02:30:58.483321Z",
     "shell.execute_reply": "2020-09-07T02:30:58.482486Z"
    },
    "papermill": {
     "duration": 0.056206,
     "end_time": "2020-09-07T02:30:58.483469",
     "exception": false,
     "start_time": "2020-09-07T02:30:58.427263",
     "status": "completed"
    },
    "tags": []
   },
   "outputs": [],
   "source": [
    "# Cria um array com dados categóricos\n",
    "array = np.array([[\"Female\"],\n",
    "         [\"Male\"],\n",
    "         [np.nan],\n",
    "         [\"Female\"]], dtype=object)\n",
    "\n",
    "# Transforma o nosso array\n",
    "new_array = categorical_pipeline.fit_transform(array)"
   ]
  },
  {
   "cell_type": "markdown",
   "execution_count": null,
   "metadata": {
    "papermill": {
     "duration": 0.042433,
     "end_time": "2020-09-07T02:30:58.568712",
     "exception": false,
     "start_time": "2020-09-07T02:30:58.526279",
     "status": "completed"
    },
    "tags": []
   },
   "source": [
    "#### Dados Numéricos\n",
    "\n",
    "Para os nossos dados numéricos, também começaremos com o preenchimento de dados faltantes. No entanto, nesse caso vamos utilizar um outro tipo de imputer, o `KNNImputer`.\n",
    "\n",
    "Esse Imputer preenche os dados faltantes aplicando o próprio k-Nearest Neighbors, utilizando a coluna com os dados faltantes como variável de classe."
   ]
  },
  {
   "cell_type": "code",
   "execution_count": 40,
   "metadata": {
    "execution": {
     "iopub.execute_input": "2020-09-07T02:30:58.662227Z",
     "iopub.status.busy": "2020-09-07T02:30:58.661375Z",
     "iopub.status.idle": "2020-09-07T02:30:58.665274Z",
     "shell.execute_reply": "2020-09-07T02:30:58.664483Z"
    },
    "papermill": {
     "duration": 0.053809,
     "end_time": "2020-09-07T02:30:58.665416",
     "exception": false,
     "start_time": "2020-09-07T02:30:58.611607",
     "status": "completed"
    },
    "tags": []
   },
   "outputs": [],
   "source": [
    "from sklearn.impute import KNNImputer\n",
    "\n",
    "# Cria o nosso KNNImputer com 5 vizinhos\n",
    "knn_imputer = KNNImputer(n_neighbors=5)"
   ]
  },
  {
   "cell_type": "code",
   "execution_count": 41,
   "metadata": {
    "execution": {
     "iopub.execute_input": "2020-09-07T02:30:58.767361Z",
     "iopub.status.busy": "2020-09-07T02:30:58.766447Z",
     "iopub.status.idle": "2020-09-07T02:30:58.770990Z",
     "shell.execute_reply": "2020-09-07T02:30:58.770373Z"
    },
    "papermill": {
     "duration": 0.061099,
     "end_time": "2020-09-07T02:30:58.771149",
     "exception": false,
     "start_time": "2020-09-07T02:30:58.710050",
     "status": "completed"
    },
    "tags": []
   },
   "outputs": [
    {
     "data": {
      "text/plain": [
       "array([[1., 2., 5.],\n",
       "       [3., 4., 3.],\n",
       "       [4., 6., 5.],\n",
       "       [8., 8., 7.]])"
      ]
     },
     "execution_count": 41,
     "metadata": {},
     "output_type": "execute_result"
    }
   ],
   "source": [
    "# Cria o nosso array com dados faltantes\n",
    "array = [[1, 2, np.nan], [3, 4, 3], [np.nan, 6, 5], [8, 8, 7]]\n",
    "\n",
    "# Preenche os dados faltantes\n",
    "new_array = knn_imputer.fit_transform(array)\n",
    "\n",
    "new_array"
   ]
  },
  {
   "cell_type": "markdown",
   "execution_count": null,
   "metadata": {
    "papermill": {
     "duration": 0.043875,
     "end_time": "2020-09-07T02:30:58.858728",
     "exception": false,
     "start_time": "2020-09-07T02:30:58.814853",
     "status": "completed"
    },
    "tags": []
   },
   "source": [
    "Em seguida, vamos utilizar o `StandardScaler` para normalizar nossas variáveis. \n",
    "\n",
    "Esse transformador padroniza as nossas features alterando sua média para 0 e seu desvio padrão para 1. Dessa forma, todas as variáveis estarão em uma mesma **'escala'**."
   ]
  },
  {
   "cell_type": "code",
   "execution_count": 42,
   "metadata": {
    "execution": {
     "iopub.execute_input": "2020-09-07T02:30:58.951669Z",
     "iopub.status.busy": "2020-09-07T02:30:58.950663Z",
     "iopub.status.idle": "2020-09-07T02:30:58.953964Z",
     "shell.execute_reply": "2020-09-07T02:30:58.953165Z"
    },
    "papermill": {
     "duration": 0.052181,
     "end_time": "2020-09-07T02:30:58.954121",
     "exception": false,
     "start_time": "2020-09-07T02:30:58.901940",
     "status": "completed"
    },
    "tags": []
   },
   "outputs": [],
   "source": [
    "from sklearn.preprocessing import StandardScaler\n",
    "\n",
    "# Cria o nosso StandardScaler\n",
    "scaler = StandardScaler()"
   ]
  },
  {
   "cell_type": "code",
   "execution_count": 43,
   "metadata": {
    "execution": {
     "iopub.execute_input": "2020-09-07T02:30:59.063998Z",
     "iopub.status.busy": "2020-09-07T02:30:59.062806Z",
     "iopub.status.idle": "2020-09-07T02:30:59.068422Z",
     "shell.execute_reply": "2020-09-07T02:30:59.067749Z"
    },
    "papermill": {
     "duration": 0.071452,
     "end_time": "2020-09-07T02:30:59.068571",
     "exception": false,
     "start_time": "2020-09-07T02:30:58.997119",
     "status": "completed"
    },
    "tags": []
   },
   "outputs": [
    {
     "data": {
      "text/plain": [
       "array([[-1.41421356, -1.        ],\n",
       "       [ 0.        , -1.        ],\n",
       "       [ 1.41421356,  1.        ],\n",
       "       [ 0.        ,  1.        ]])"
      ]
     },
     "execution_count": 43,
     "metadata": {},
     "output_type": "execute_result"
    }
   ],
   "source": [
    "# Cria um array numérico\n",
    "array = [[-3, 0], [0, 0], [3, 1], [0, 1]]\n",
    "\n",
    "# Normaliza nosso array\n",
    "new_array = scaler.fit_transform(array)\n",
    "\n",
    "new_array"
   ]
  },
  {
   "cell_type": "markdown",
   "execution_count": null,
   "metadata": {
    "papermill": {
     "duration": 0.043751,
     "end_time": "2020-09-07T02:30:59.156213",
     "exception": false,
     "start_time": "2020-09-07T02:30:59.112462",
     "status": "completed"
    },
    "tags": []
   },
   "source": [
    "Por fim, agora podemos criar a nossa **Pipeline** numérica:"
   ]
  },
  {
   "cell_type": "code",
   "execution_count": 44,
   "metadata": {
    "execution": {
     "iopub.execute_input": "2020-09-07T02:30:59.250939Z",
     "iopub.status.busy": "2020-09-07T02:30:59.249735Z",
     "iopub.status.idle": "2020-09-07T02:30:59.253487Z",
     "shell.execute_reply": "2020-09-07T02:30:59.252682Z"
    },
    "papermill": {
     "duration": 0.054006,
     "end_time": "2020-09-07T02:30:59.253622",
     "exception": false,
     "start_time": "2020-09-07T02:30:59.199616",
     "status": "completed"
    },
    "tags": []
   },
   "outputs": [],
   "source": [
    "# Cria a nossa pipeline numérica\n",
    "numerical_pipeline = Pipeline(steps = [\n",
    "    ('imputer', KNNImputer(n_neighbors=5, weights=\"uniform\")),\n",
    "    ('scaler', StandardScaler())\n",
    "])"
   ]
  },
  {
   "cell_type": "markdown",
   "execution_count": null,
   "metadata": {
    "papermill": {
     "duration": 0.043429,
     "end_time": "2020-09-07T02:30:59.340419",
     "exception": false,
     "start_time": "2020-09-07T02:30:59.296990",
     "status": "completed"
    },
    "tags": []
   },
   "source": [
    "#### Dados Numéricos Esparsos\n",
    "\n",
    "Por fim, temos as colunas 'capital.gain' e 'capital.loss', que se diferem muito dos outros dados numéricos por serem bem mais esparsas e possuírem mais outliers.\n",
    "\n",
    "Para préprocessá-las, vamos adotar os mesmos passos da Pipeline numérica, apenas trocando o `StandardScaler` por um `RobustScaler`:"
   ]
  },
  {
   "cell_type": "code",
   "execution_count": 45,
   "metadata": {
    "execution": {
     "iopub.execute_input": "2020-09-07T02:30:59.435439Z",
     "iopub.status.busy": "2020-09-07T02:30:59.434366Z",
     "iopub.status.idle": "2020-09-07T02:30:59.437468Z",
     "shell.execute_reply": "2020-09-07T02:30:59.436667Z"
    },
    "papermill": {
     "duration": 0.053917,
     "end_time": "2020-09-07T02:30:59.437611",
     "exception": false,
     "start_time": "2020-09-07T02:30:59.383694",
     "status": "completed"
    },
    "tags": []
   },
   "outputs": [],
   "source": [
    "from sklearn.preprocessing import RobustScaler\n",
    "\n",
    "sparse_pipeline = Pipeline(steps = [\n",
    "    ('imputer', KNNImputer(n_neighbors=5, weights=\"uniform\")),\n",
    "    ('scaler', RobustScaler())\n",
    "])"
   ]
  },
  {
   "cell_type": "markdown",
   "execution_count": null,
   "metadata": {
    "papermill": {
     "duration": 0.043065,
     "end_time": "2020-09-07T02:30:59.526855",
     "exception": false,
     "start_time": "2020-09-07T02:30:59.483790",
     "status": "completed"
    },
    "tags": []
   },
   "source": [
    "#### Juntando tudo\n",
    "\n",
    "Com todas as nossas Pipelines definidas, podemos juntá-las em apenas um transformador, que utilizaremos para préprocessar o dataset. Para tal, usaremos o `ColumnTransformer`, que aplicará as diferentes pipelines em suas respectivas colunas:"
   ]
  },
  {
   "cell_type": "code",
   "execution_count": 46,
   "metadata": {
    "execution": {
     "iopub.execute_input": "2020-09-07T02:30:59.622757Z",
     "iopub.status.busy": "2020-09-07T02:30:59.621597Z",
     "iopub.status.idle": "2020-09-07T02:30:59.627569Z",
     "shell.execute_reply": "2020-09-07T02:30:59.626771Z"
    },
    "papermill": {
     "duration": 0.057543,
     "end_time": "2020-09-07T02:30:59.627710",
     "exception": false,
     "start_time": "2020-09-07T02:30:59.570167",
     "status": "completed"
    },
    "tags": []
   },
   "outputs": [],
   "source": [
    "from sklearn.compose import ColumnTransformer\n",
    "\n",
    "# Cria o nosso Pré-Processador\n",
    "\n",
    "# Cada pipeline está associada a suas respectivas colunas no datast\n",
    "preprocessor = ColumnTransformer(transformers = [\n",
    "    ('num', numerical_pipeline, numerical_cols),\n",
    "    ('spr', sparse_pipeline, sparse_cols),\n",
    "    ('cat', categorical_pipeline, categorical_cols)\n",
    "])"
   ]
  },
  {
   "cell_type": "markdown",
   "execution_count": null,
   "metadata": {
    "papermill": {
     "duration": 0.042502,
     "end_time": "2020-09-07T02:30:59.714776",
     "exception": false,
     "start_time": "2020-09-07T02:30:59.672274",
     "status": "completed"
    },
    "tags": []
   },
   "source": [
    "Finalmente, podemos aplicar todos esses passos no nosso dataset com apenas uma linha de código:"
   ]
  },
  {
   "cell_type": "code",
   "execution_count": 47,
   "metadata": {
    "execution": {
     "iopub.execute_input": "2020-09-07T02:30:59.814413Z",
     "iopub.status.busy": "2020-09-07T02:30:59.813551Z",
     "iopub.status.idle": "2020-09-07T02:31:01.285269Z",
     "shell.execute_reply": "2020-09-07T02:31:01.284560Z"
    },
    "papermill": {
     "duration": 1.526999,
     "end_time": "2020-09-07T02:31:01.285433",
     "exception": false,
     "start_time": "2020-09-07T02:30:59.758434",
     "status": "completed"
    },
    "tags": []
   },
   "outputs": [],
   "source": [
    "X_train = preprocessor.fit_transform(X_train)"
   ]
  },
  {
   "cell_type": "markdown",
   "execution_count": null,
   "metadata": {
    "papermill": {
     "duration": 0.043945,
     "end_time": "2020-09-07T02:31:01.376010",
     "exception": false,
     "start_time": "2020-09-07T02:31:01.332065",
     "status": "completed"
    },
    "tags": []
   },
   "source": [
    "<a id=\"section-four\"></a>\n",
    "## 🔮 Predição\n",
    "\n",
    "Terminada a limpeza e o pré-processamento dos dados, podemos enfim aplicar o nosso modelo de predição, nesse caso, um **classificador KNN**. Caso você não esteja familiarizado com esse modelo, recomendo a leitura do seguinte texto:\n",
    "\n",
    "**[Leitura Recomendada - KNN](https://medium.com/turing-talks/turing-talks-13-modelo-de-predi%C3%A7%C3%A3o-knn-3be880c9b9d1)**\n",
    "\n",
    "Para utilizar esse modelo, vamos instanciar a classe `KNeighborsClassifier` do **scikit-learn**:"
   ]
  },
  {
   "cell_type": "code",
   "execution_count": 48,
   "metadata": {
    "execution": {
     "iopub.execute_input": "2020-09-07T02:31:01.474297Z",
     "iopub.status.busy": "2020-09-07T02:31:01.473102Z",
     "iopub.status.idle": "2020-09-07T02:31:01.477022Z",
     "shell.execute_reply": "2020-09-07T02:31:01.476206Z"
    },
    "papermill": {
     "duration": 0.05545,
     "end_time": "2020-09-07T02:31:01.477165",
     "exception": false,
     "start_time": "2020-09-07T02:31:01.421715",
     "status": "completed"
    },
    "tags": []
   },
   "outputs": [],
   "source": [
    "from sklearn.neighbors import KNeighborsClassifier\n",
    "\n",
    "# Instancia nosso classificador\n",
    "knn = KNeighborsClassifier(n_neighbors=20)"
   ]
  },
  {
   "attachments": {
    "image.png": {
     "image/png": "[encoded data removed]"
    }
   },
   "cell_type": "markdown",
   "execution_count": null,
   "metadata": {
    "papermill": {
     "duration": 0.043357,
     "end_time": "2020-09-07T02:31:01.564081",
     "exception": false,
     "start_time": "2020-09-07T02:31:01.520724",
     "status": "completed"
    },
    "tags": []
   },
   "source": [
    "### Cross-Validation\n",
    "\n",
    "Para estimar a acurácia do nosso modelo, vamos utilizar o método chamado **\"Cross-Validation\"**, ou **\"Validação Cruzada\"**. \n",
    "\n",
    "![image.png](attachment:image.png)\n",
    "\n",
    "Nele, particionamos os nossos dados em k divisões e treinamos o nosso modelo em k-1 delas, sempre deixando uma última livre para testar o desempenho. Como repetimos esse processo k vezes, ao final temos uma boa noção da acurácia esperada."
   ]
  },
  {
   "cell_type": "code",
   "execution_count": 49,
   "metadata": {
    "execution": {
     "iopub.execute_input": "2020-09-07T02:31:01.687913Z",
     "iopub.status.busy": "2020-09-07T02:31:01.657463Z",
     "iopub.status.idle": "2020-09-07T02:32:02.574346Z",
     "shell.execute_reply": "2020-09-07T02:32:02.575138Z"
    },
    "papermill": {
     "duration": 60.968148,
     "end_time": "2020-09-07T02:32:02.575412",
     "exception": false,
     "start_time": "2020-09-07T02:31:01.607264",
     "status": "completed"
    },
    "tags": []
   },
   "outputs": [
    {
     "name": "stdout",
     "output_type": "stream",
     "text": [
      "Acurácia com cross validation: 0.86823833233729\n"
     ]
    }
   ],
   "source": [
    "from sklearn.model_selection import cross_val_score\n",
    "\n",
    "score = cross_val_score(knn, X_train, Y_train, cv = 5, scoring=\"accuracy\")\n",
    "print(\"Acurácia com cross validation:\", score.mean())"
   ]
  },
  {
   "cell_type": "markdown",
   "execution_count": null,
   "metadata": {
    "papermill": {
     "duration": 0.04336,
     "end_time": "2020-09-07T02:32:02.662909",
     "exception": false,
     "start_time": "2020-09-07T02:32:02.619549",
     "status": "completed"
    },
    "tags": []
   },
   "source": [
    "Nosso modelo conseguiu um resultado muito bom para 20 vizinhos! Uma acurácia de **86,8%**.\n",
    "\n",
    "Agora, vamos testar outras quantidades de vizinhos para o nosso KNN, e descobrir qual nos dá um melhor resultado."
   ]
  },
  {
   "cell_type": "code",
   "execution_count": 50,
   "metadata": {
    "execution": {
     "iopub.execute_input": "2020-09-07T02:32:02.795283Z",
     "iopub.status.busy": "2020-09-07T02:32:02.761285Z",
     "iopub.status.idle": "2020-09-07T02:37:02.925513Z",
     "shell.execute_reply": "2020-09-07T02:37:02.926545Z"
    },
    "papermill": {
     "duration": 300.219447,
     "end_time": "2020-09-07T02:37:02.926874",
     "exception": false,
     "start_time": "2020-09-07T02:32:02.707427",
     "status": "completed"
    },
    "tags": []
   },
   "outputs": [
    {
     "name": "stdout",
     "output_type": "stream",
     "text": [
      "Melhor hiperparâmetro:  20\n",
      "Melhor acurácia:  0.86823833233729\n"
     ]
    }
   ],
   "source": [
    "# Quantidades de vizinhos a serem testadas\n",
    "neighbors = [15, 20, 25, 30, 35]\n",
    "\n",
    "# Dicionário para guardar as pontuações de cada hiperparâmetro\n",
    "neighbors_scores = {}\n",
    "\n",
    "for n_neighbors in neighbors:\n",
    "    # Calcula a média de acurácia de cada classificador\n",
    "    score = cross_val_score(KNeighborsClassifier(n_neighbors=n_neighbors), X_train, Y_train, cv = 5, scoring=\"accuracy\").mean()\n",
    "    \n",
    "    # Guarda essa acurácia\n",
    "    neighbors_scores[n_neighbors] = score\n",
    "\n",
    "# Obtém a quantidade de vizinhos com o melhor desempenho\n",
    "best_n = max(neighbors_scores, key=neighbors_scores.get)\n",
    "\n",
    "print(\"Melhor hiperparâmetro: \", best_n)\n",
    "print(\"Melhor acurácia: \", neighbors_scores[best_n])"
   ]
  },
  {
   "cell_type": "markdown",
   "execution_count": null,
   "metadata": {
    "papermill": {
     "duration": 0.043791,
     "end_time": "2020-09-07T02:37:03.014523",
     "exception": false,
     "start_time": "2020-09-07T02:37:02.970732",
     "status": "completed"
    },
    "tags": []
   },
   "source": [
    "Parece que a nossa melhor quantidade de vizinhos foi o próprio **20**!"
   ]
  },
  {
   "cell_type": "markdown",
   "execution_count": null,
   "metadata": {
    "papermill": {
     "duration": 0.045394,
     "end_time": "2020-09-07T02:37:03.105501",
     "exception": false,
     "start_time": "2020-09-07T02:37:03.060107",
     "status": "completed"
    },
    "tags": []
   },
   "source": [
    "### Bayes Search\n",
    "\n",
    "Para escolher a melhor quantidade de vizinhos, também podemos utilizar outras técnicas de otimização de hiperparâmetros, como o **Bayes Search**! Se quiser ler mais sobre o assunto, recomendo o seguinte texto:\n",
    "\n",
    "[Leitura Recomendada - Otimização de Hiperparâmetros](https://medium.com/turing-talks/modelos-de-predi%C3%A7%C3%A3o-otimiza%C3%A7%C3%A3o-de-hiperpar%C3%A2metros-em-python-3436fc55016e)"
   ]
  },
  {
   "cell_type": "code",
   "execution_count": 51,
   "metadata": {
    "execution": {
     "iopub.execute_input": "2020-09-07T02:37:03.207251Z",
     "iopub.status.busy": "2020-09-07T02:37:03.206296Z",
     "iopub.status.idle": "2020-09-07T02:47:39.307475Z",
     "shell.execute_reply": "2020-09-07T02:47:39.310050Z"
    },
    "papermill": {
     "duration": 636.158864,
     "end_time": "2020-09-07T02:47:39.310361",
     "exception": false,
     "start_time": "2020-09-07T02:37:03.151497",
     "status": "completed"
    },
    "tags": []
   },
   "outputs": [
    {
     "name": "stderr",
     "output_type": "stream",
     "text": [
      "/opt/conda/lib/python3.7/site-packages/skopt/optimizer/optimizer.py:409: UserWarning: The objective has been evaluated at this point before.\n",
      "  warnings.warn(\"The objective has been evaluated \"\n"
     ]
    },
    {
     "name": "stdout",
     "output_type": "stream",
     "text": [
      "Melhor quantidade de vizinhos: 20\n",
      "Desempenho do melhor modelo: 0.86652\n"
     ]
    }
   ],
   "source": [
    "# Importa o Bayes Search:\n",
    "from skopt import BayesSearchCV\n",
    "\n",
    "# Importa o espaço de busca inteiro\n",
    "from skopt.space import Integer\n",
    "\n",
    "# Cria o Bayes Search:\n",
    "bayes_search_cv = BayesSearchCV(estimator = KNeighborsClassifier(),\n",
    "                              search_spaces = {'n_neighbors': Integer(10, 50),}, # Vizinhos de 10 a 50\n",
    "                              cv = 3,\n",
    "                              n_iter = 12, random_state=42)\n",
    "\n",
    "# Realizando a otimização por BayesSearch:\n",
    "bayes_search_cv.fit(X_train, Y_train)\n",
    "\n",
    "best_param = bayes_search_cv.best_params_['n_neighbors']\n",
    "\n",
    "print('Melhor quantidade de vizinhos: {}'.format(bayes_search_cv.best_params_['n_neighbors']))\n",
    "print('Desempenho do melhor modelo: {}'.format(round(bayes_search_cv.best_score_,5)))"
   ]
  },
  {
   "cell_type": "markdown",
   "execution_count": null,
   "metadata": {
    "papermill": {
     "duration": 0.05179,
     "end_time": "2020-09-07T02:47:39.413762",
     "exception": false,
     "start_time": "2020-09-07T02:47:39.361972",
     "status": "completed"
    },
    "tags": []
   },
   "source": [
    "Surpreendentemente, obtivemos novamente a mesma quantidade de **20** vizinhos!\n",
    "\n",
    "Agora vamos criar um classificador KNN com 20 vizinhos:"
   ]
  },
  {
   "cell_type": "code",
   "execution_count": 52,
   "metadata": {
    "execution": {
     "iopub.execute_input": "2020-09-07T02:47:39.534604Z",
     "iopub.status.busy": "2020-09-07T02:47:39.533487Z",
     "iopub.status.idle": "2020-09-07T02:47:39.536717Z",
     "shell.execute_reply": "2020-09-07T02:47:39.536075Z"
    },
    "papermill": {
     "duration": 0.06385,
     "end_time": "2020-09-07T02:47:39.536884",
     "exception": false,
     "start_time": "2020-09-07T02:47:39.473034",
     "status": "completed"
    },
    "tags": []
   },
   "outputs": [],
   "source": [
    "knn = KNeighborsClassifier(n_neighbors=20)"
   ]
  },
  {
   "cell_type": "markdown",
   "execution_count": null,
   "metadata": {
    "papermill": {
     "duration": 0.051998,
     "end_time": "2020-09-07T02:47:39.639027",
     "exception": false,
     "start_time": "2020-09-07T02:47:39.587029",
     "status": "completed"
    },
    "tags": []
   },
   "source": [
    "E vamos ajustá-lo para o nosso dataset!"
   ]
  },
  {
   "cell_type": "code",
   "execution_count": 53,
   "metadata": {
    "execution": {
     "iopub.execute_input": "2020-09-07T02:47:39.752259Z",
     "iopub.status.busy": "2020-09-07T02:47:39.751198Z",
     "iopub.status.idle": "2020-09-07T02:47:39.829051Z",
     "shell.execute_reply": "2020-09-07T02:47:39.829755Z"
    },
    "papermill": {
     "duration": 0.13983,
     "end_time": "2020-09-07T02:47:39.829981",
     "exception": false,
     "start_time": "2020-09-07T02:47:39.690151",
     "status": "completed"
    },
    "tags": []
   },
   "outputs": [
    {
     "data": {
      "text/plain": [
       "KNeighborsClassifier(n_neighbors=20)"
      ]
     },
     "execution_count": 53,
     "metadata": {},
     "output_type": "execute_result"
    }
   ],
   "source": [
    "knn.fit(X_train, Y_train)"
   ]
  },
  {
   "cell_type": "markdown",
   "execution_count": null,
   "metadata": {
    "papermill": {
     "duration": 0.04719,
     "end_time": "2020-09-07T02:47:39.925107",
     "exception": false,
     "start_time": "2020-09-07T02:47:39.877917",
     "status": "completed"
    },
    "tags": []
   },
   "source": [
    "### Dados de Teste\n",
    "\n",
    "Finalmente, agora podemos predizer os nossos dados teste e enviar uma submissão para o Kaggle.\n",
    "\n",
    "Primeiramente, vamos importar os nossos dados:"
   ]
  },
  {
   "cell_type": "code",
   "execution_count": 54,
   "metadata": {
    "execution": {
     "iopub.execute_input": "2020-09-07T02:47:40.030543Z",
     "iopub.status.busy": "2020-09-07T02:47:40.029618Z",
     "iopub.status.idle": "2020-09-07T02:47:40.111909Z",
     "shell.execute_reply": "2020-09-07T02:47:40.110171Z"
    },
    "papermill": {
     "duration": 0.139927,
     "end_time": "2020-09-07T02:47:40.112080",
     "exception": false,
     "start_time": "2020-09-07T02:47:39.972153",
     "status": "completed"
    },
    "tags": []
   },
   "outputs": [],
   "source": [
    "test_data = pd.read_csv(\"../input/adult-pmr3508/test_data.csv\", index_col=['Id'], na_values=\"?\")"
   ]
  },
  {
   "cell_type": "markdown",
   "execution_count": null,
   "metadata": {
    "papermill": {
     "duration": 0.044738,
     "end_time": "2020-09-07T02:47:40.202417",
     "exception": false,
     "start_time": "2020-09-07T02:47:40.157679",
     "status": "completed"
    },
    "tags": []
   },
   "source": [
    "Em seguida, vamos remover as colunas que ignoramos anteriormente:"
   ]
  },
  {
   "cell_type": "code",
   "execution_count": 55,
   "metadata": {
    "execution": {
     "iopub.execute_input": "2020-09-07T02:47:40.318493Z",
     "iopub.status.busy": "2020-09-07T02:47:40.317332Z",
     "iopub.status.idle": "2020-09-07T02:47:40.321115Z",
     "shell.execute_reply": "2020-09-07T02:47:40.320097Z"
    },
    "papermill": {
     "duration": 0.062271,
     "end_time": "2020-09-07T02:47:40.321305",
     "exception": false,
     "start_time": "2020-09-07T02:47:40.259034",
     "status": "completed"
    },
    "tags": []
   },
   "outputs": [],
   "source": [
    "X_test = test_data.drop(['fnlwgt', 'native.country', 'education'], axis=1)"
   ]
  },
  {
   "cell_type": "markdown",
   "execution_count": null,
   "metadata": {
    "papermill": {
     "duration": 0.046727,
     "end_time": "2020-09-07T02:47:40.416041",
     "exception": false,
     "start_time": "2020-09-07T02:47:40.369314",
     "status": "completed"
    },
    "tags": []
   },
   "source": [
    "Aplicaremos o preprocessamento:"
   ]
  },
  {
   "cell_type": "code",
   "execution_count": 56,
   "metadata": {
    "execution": {
     "iopub.execute_input": "2020-09-07T02:47:40.527709Z",
     "iopub.status.busy": "2020-09-07T02:47:40.526790Z",
     "iopub.status.idle": "2020-09-07T02:47:40.619476Z",
     "shell.execute_reply": "2020-09-07T02:47:40.618353Z"
    },
    "papermill": {
     "duration": 0.151299,
     "end_time": "2020-09-07T02:47:40.619664",
     "exception": false,
     "start_time": "2020-09-07T02:47:40.468365",
     "status": "completed"
    },
    "tags": []
   },
   "outputs": [],
   "source": [
    "X_test = preprocessor.transform(X_test)"
   ]
  },
  {
   "cell_type": "markdown",
   "execution_count": null,
   "metadata": {
    "papermill": {
     "duration": 0.046818,
     "end_time": "2020-09-07T02:47:40.718999",
     "exception": false,
     "start_time": "2020-09-07T02:47:40.672181",
     "status": "completed"
    },
    "tags": []
   },
   "source": [
    "E prediremos a nossa variável de classe:"
   ]
  },
  {
   "cell_type": "code",
   "execution_count": 57,
   "metadata": {
    "execution": {
     "iopub.execute_input": "2020-09-07T02:47:40.822476Z",
     "iopub.status.busy": "2020-09-07T02:47:40.821621Z",
     "iopub.status.idle": "2020-09-07T02:48:21.677215Z",
     "shell.execute_reply": "2020-09-07T02:48:21.676517Z"
    },
    "papermill": {
     "duration": 40.912294,
     "end_time": "2020-09-07T02:48:21.677371",
     "exception": false,
     "start_time": "2020-09-07T02:47:40.765077",
     "status": "completed"
    },
    "tags": []
   },
   "outputs": [],
   "source": [
    "predictions = knn.predict(X_test)"
   ]
  },
  {
   "cell_type": "markdown",
   "execution_count": null,
   "metadata": {
    "papermill": {
     "duration": 0.044969,
     "end_time": "2020-09-07T02:48:21.768668",
     "exception": false,
     "start_time": "2020-09-07T02:48:21.723699",
     "status": "completed"
    },
    "tags": []
   },
   "source": [
    "Conseguimos obter nosso resultado!"
   ]
  },
  {
   "cell_type": "code",
   "execution_count": 58,
   "metadata": {
    "execution": {
     "iopub.execute_input": "2020-09-07T02:48:21.867580Z",
     "iopub.status.busy": "2020-09-07T02:48:21.866535Z",
     "iopub.status.idle": "2020-09-07T02:48:21.871880Z",
     "shell.execute_reply": "2020-09-07T02:48:21.871267Z"
    },
    "papermill": {
     "duration": 0.05664,
     "end_time": "2020-09-07T02:48:21.872025",
     "exception": false,
     "start_time": "2020-09-07T02:48:21.815385",
     "status": "completed"
    },
    "tags": []
   },
   "outputs": [
    {
     "data": {
      "text/plain": [
       "array(['<=50K', '>50K', '<=50K', ..., '<=50K', '<=50K', '>50K'],\n",
       "      dtype=object)"
      ]
     },
     "execution_count": 58,
     "metadata": {},
     "output_type": "execute_result"
    }
   ],
   "source": [
    "predictions"
   ]
  },
  {
   "cell_type": "markdown",
   "execution_count": null,
   "metadata": {
    "papermill": {
     "duration": 0.045223,
     "end_time": "2020-09-07T02:48:21.962285",
     "exception": false,
     "start_time": "2020-09-07T02:48:21.917062",
     "status": "completed"
    },
    "tags": []
   },
   "source": [
    "## 📄 Submissão\n",
    "\n",
    "Para submeter nossa predição, vamos exportá-la no formato de `.csv`. Para isso, primeiro vamos criar um DataFrame:"
   ]
  },
  {
   "cell_type": "code",
   "execution_count": 59,
   "metadata": {
    "execution": {
     "iopub.execute_input": "2020-09-07T02:48:22.060542Z",
     "iopub.status.busy": "2020-09-07T02:48:22.059579Z",
     "iopub.status.idle": "2020-09-07T02:48:22.063623Z",
     "shell.execute_reply": "2020-09-07T02:48:22.062869Z"
    },
    "papermill": {
     "duration": 0.055658,
     "end_time": "2020-09-07T02:48:22.063763",
     "exception": false,
     "start_time": "2020-09-07T02:48:22.008105",
     "status": "completed"
    },
    "tags": []
   },
   "outputs": [],
   "source": [
    "submission = pd.DataFrame()"
   ]
  },
  {
   "cell_type": "markdown",
   "execution_count": null,
   "metadata": {
    "papermill": {
     "duration": 0.057987,
     "end_time": "2020-09-07T02:48:22.168073",
     "exception": false,
     "start_time": "2020-09-07T02:48:22.110086",
     "status": "completed"
    },
    "tags": []
   },
   "source": [
    "Depois vamos preenchê-lo com o índice de cada dado e seu respectivo rótulo:"
   ]
  },
  {
   "cell_type": "code",
   "execution_count": 60,
   "metadata": {
    "execution": {
     "iopub.execute_input": "2020-09-07T02:48:22.294179Z",
     "iopub.status.busy": "2020-09-07T02:48:22.293017Z",
     "iopub.status.idle": "2020-09-07T02:48:22.295273Z",
     "shell.execute_reply": "2020-09-07T02:48:22.296109Z"
    },
    "papermill": {
     "duration": 0.072169,
     "end_time": "2020-09-07T02:48:22.296364",
     "exception": false,
     "start_time": "2020-09-07T02:48:22.224195",
     "status": "completed"
    },
    "tags": []
   },
   "outputs": [],
   "source": [
    "submission[0] = test_data.index\n",
    "submission[1] = predictions\n",
    "submission.columns = ['Id','income']"
   ]
  },
  {
   "cell_type": "markdown",
   "execution_count": null,
   "metadata": {
    "papermill": {
     "duration": 0.045325,
     "end_time": "2020-09-07T02:48:22.396779",
     "exception": false,
     "start_time": "2020-09-07T02:48:22.351454",
     "status": "completed"
    },
    "tags": []
   },
   "source": [
    "Nosso resultado é esse:"
   ]
  },
  {
   "cell_type": "code",
   "execution_count": 61,
   "metadata": {
    "execution": {
     "iopub.execute_input": "2020-09-07T02:48:22.500692Z",
     "iopub.status.busy": "2020-09-07T02:48:22.499601Z",
     "iopub.status.idle": "2020-09-07T02:48:22.504762Z",
     "shell.execute_reply": "2020-09-07T02:48:22.504167Z"
    },
    "papermill": {
     "duration": 0.062266,
     "end_time": "2020-09-07T02:48:22.504926",
     "exception": false,
     "start_time": "2020-09-07T02:48:22.442660",
     "status": "completed"
    },
    "tags": []
   },
   "outputs": [
    {
     "data": {
      "text/html": [
       "<div>\n",
       "<style scoped>\n",
       "    .dataframe tbody tr th:only-of-type {\n",
       "        vertical-align: middle;\n",
       "    }\n",
       "\n",
       "    .dataframe tbody tr th {\n",
       "        vertical-align: top;\n",
       "    }\n",
       "\n",
       "    .dataframe thead th {\n",
       "        text-align: right;\n",
       "    }\n",
       "</style>\n",
       "<table border=\"1\" class=\"dataframe\">\n",
       "  <thead>\n",
       "    <tr style=\"text-align: right;\">\n",
       "      <th></th>\n",
       "      <th>Id</th>\n",
       "      <th>income</th>\n",
       "    </tr>\n",
       "  </thead>\n",
       "  <tbody>\n",
       "    <tr>\n",
       "      <th>0</th>\n",
       "      <td>0</td>\n",
       "      <td>&lt;=50K</td>\n",
       "    </tr>\n",
       "    <tr>\n",
       "      <th>1</th>\n",
       "      <td>1</td>\n",
       "      <td>&gt;50K</td>\n",
       "    </tr>\n",
       "    <tr>\n",
       "      <th>2</th>\n",
       "      <td>2</td>\n",
       "      <td>&lt;=50K</td>\n",
       "    </tr>\n",
       "    <tr>\n",
       "      <th>3</th>\n",
       "      <td>3</td>\n",
       "      <td>&lt;=50K</td>\n",
       "    </tr>\n",
       "    <tr>\n",
       "      <th>4</th>\n",
       "      <td>4</td>\n",
       "      <td>&gt;50K</td>\n",
       "    </tr>\n",
       "  </tbody>\n",
       "</table>\n",
       "</div>"
      ],
      "text/plain": [
       "   Id income\n",
       "0   0  <=50K\n",
       "1   1   >50K\n",
       "2   2  <=50K\n",
       "3   3  <=50K\n",
       "4   4   >50K"
      ]
     },
     "execution_count": 61,
     "metadata": {},
     "output_type": "execute_result"
    }
   ],
   "source": [
    "submission.head()"
   ]
  },
  {
   "cell_type": "markdown",
   "execution_count": null,
   "metadata": {
    "papermill": {
     "duration": 0.047603,
     "end_time": "2020-09-07T02:48:22.600111",
     "exception": false,
     "start_time": "2020-09-07T02:48:22.552508",
     "status": "completed"
    },
    "tags": []
   },
   "source": [
    "Finalmente! Só basta exportar nosso DataFrame:"
   ]
  },
  {
   "cell_type": "code",
   "execution_count": 62,
   "metadata": {
    "execution": {
     "iopub.execute_input": "2020-09-07T02:48:22.698398Z",
     "iopub.status.busy": "2020-09-07T02:48:22.697564Z",
     "iopub.status.idle": "2020-09-07T02:48:23.122697Z",
     "shell.execute_reply": "2020-09-07T02:48:23.121807Z"
    },
    "papermill": {
     "duration": 0.477145,
     "end_time": "2020-09-07T02:48:23.122869",
     "exception": false,
     "start_time": "2020-09-07T02:48:22.645724",
     "status": "completed"
    },
    "tags": []
   },
   "outputs": [],
   "source": [
    "submission.to_csv('submission.csv',index = False)"
   ]
  },
  {
   "attachments": {},
   "cell_type": "markdown",
   "execution_count": null,
   "metadata": {
    "papermill": {
     "duration": 0.04648,
     "end_time": "2020-09-07T02:48:23.216110",
     "exception": false,
     "start_time": "2020-09-07T02:48:23.169630",
     "status": "completed"
    },
    "tags": []
   },
   "source": [
    "![](https://i.pinimg.com/originals/4e/9e/6f/4e9e6f979347906a426adcbe57fd3259.gif)\n",
    "\n",
    "Muito obrigado por acompanhar esse notebook até o final!\n",
    "\n",
    "Vários conteúdos aplicados na análise não seria possível sem [o material do Grupo Turing](https://medium.com/turing-talks), que recomendo muito.\n",
    "\n",
    "Se quiser acompanhar nossos projetos, também temos um [GitHub](https://github.com/orgs/GrupoTuring/dashboard) e um [site](http://www.grupoturing.com.br/)!"
   ]
  }
 ],
 "metadata": {
  "kernelspec": {
   "display_name": "Python 3",
   "language": "python",
   "name": "python3"
  },
  "language_info": {
   "codemirror_mode": {
    "name": "ipython",
    "version": 3
   },
   "file_extension": ".py",
   "mimetype": "text/x-python",
   "name": "python",
   "nbconvert_exporter": "python",
   "pygments_lexer": "ipython3",
   "version": "3.7.6"
  },
  "papermill": {
   "duration": 1086.994767,
   "end_time": "2020-09-07T02:48:23.372842",
   "environment_variables": {},
   "exception": null,
   "input_path": "__notebook__.ipynb",
   "output_path": "__notebook__.ipynb",
   "parameters": {},
   "start_time": "2020-09-07T02:30:16.378075",
   "version": "2.1.0"
  }
 },
 "nbformat": 4,
 "nbformat_minor": 4
}
